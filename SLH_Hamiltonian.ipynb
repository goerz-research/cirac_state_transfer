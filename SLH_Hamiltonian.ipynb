{
 "cells": [
  {
   "cell_type": "code",
   "execution_count": 1,
   "metadata": {
    "collapsed": true
   },
   "outputs": [],
   "source": [
    "%load_ext autoreload\n",
    "%autoreload 2"
   ]
  },
  {
   "cell_type": "code",
   "execution_count": 2,
   "metadata": {
    "collapsed": true
   },
   "outputs": [],
   "source": [
    "import sympy\n",
    "import numpy as np"
   ]
  },
  {
   "cell_type": "code",
   "execution_count": 3,
   "metadata": {
    "collapsed": true
   },
   "outputs": [],
   "source": [
    "from sympy import I"
   ]
  },
  {
   "cell_type": "code",
   "execution_count": 4,
   "metadata": {
    "collapsed": true
   },
   "outputs": [],
   "source": [
    "sympy.init_printing()"
   ]
  },
  {
   "cell_type": "code",
   "execution_count": 5,
   "metadata": {
    "collapsed": true
   },
   "outputs": [],
   "source": [
    "import qnet.misc.to_sympy_matrix"
   ]
  },
  {
   "cell_type": "code",
   "execution_count": 6,
   "metadata": {
    "collapsed": true
   },
   "outputs": [],
   "source": [
    "from two_node_slh import qnet_node_system, setup_qnet_sys"
   ]
  },
  {
   "cell_type": "code",
   "execution_count": 7,
   "metadata": {
    "collapsed": true
   },
   "outputs": [],
   "source": [
    "n_cavity = 2"
   ]
  },
  {
   "cell_type": "code",
   "execution_count": 8,
   "metadata": {
    "collapsed": false
   },
   "outputs": [],
   "source": [
    "SYS, Sym1, Op1, Sym2, Op2 = setup_qnet_sys(n_cavity=n_cavity, stark_shift=True, zero_phi=False, keep_delta=True)"
   ]
  },
  {
   "cell_type": "code",
   "execution_count": 9,
   "metadata": {
    "collapsed": false
   },
   "outputs": [
    {
     "data": {
      "text/latex": [
       "${\\rm  \\frac{\\Omega_{{1}}^{2}}{4 \\Delta_{{1}}} {\\Pi_{{\\rm e}}^{{{\\rm atom}}_{{\\rm 1}}}}} +  \\frac{\\Omega_{{2}}^{2}}{4 \\Delta_{{2}}} {\\Pi_{{\\rm e}}^{{{\\rm atom}}_{{\\rm 2}}}} -  \\delta_{{1}}  {a_{{{\\rm cav}}_{{\\rm 1}}}^\\dagger} {a_{{{\\rm cav}}_{{\\rm 1}}}} +  i \\kappa  {a_{{{\\rm cav}}_{{\\rm 1}}}^\\dagger} {a_{{{\\rm cav}}_{{\\rm 2}}}} -  \\delta_{{2}}  {a_{{{\\rm cav}}_{{\\rm 2}}}^\\dagger} {a_{{{\\rm cav}}_{{\\rm 2}}}} -  i \\kappa  {a_{{{\\rm cav}}_{{\\rm 1}}}} {a_{{{\\rm cav}}_{{\\rm 2}}}^\\dagger} -  \\frac{i \\Omega_{{1}} g_{{1}}}{2 \\Delta_{{1}}} e^{i \\phi_{{1}}}  {\\sigma_{{\\rm e},{\\rm g}}^{{{\\rm atom}}_{{\\rm 1}}}} {a_{{{\\rm cav}}_{{\\rm 1}}}} +  \\frac{i \\Omega_{{1}} g_{{1}}}{2 \\Delta_{{1}}} e^{- i \\phi_{{1}}}  {\\sigma_{{\\rm g},{\\rm e}}^{{{\\rm atom}}_{{\\rm 1}}}} {a_{{{\\rm cav}}_{{\\rm 1}}}^\\dagger} +  \\frac{g_{{1}}^{2}}{\\Delta_{{1}}}  {\\Pi_{{\\rm g}}^{{{\\rm atom}}_{{\\rm 1}}}} {a_{{{\\rm cav}}_{{\\rm 1}}}^\\dagger} {a_{{{\\rm cav}}_{{\\rm 1}}}} -  \\frac{i \\Omega_{{2}} g_{{2}}}{2 \\Delta_{{2}}} e^{i \\phi_{{2}}}  {\\sigma_{{\\rm e},{\\rm g}}^{{{\\rm atom}}_{{\\rm 2}}}} {a_{{{\\rm cav}}_{{\\rm 2}}}} +  \\frac{i \\Omega_{{2}} g_{{2}}}{2 \\Delta_{{2}}} e^{- i \\phi_{{2}}}  {\\sigma_{{\\rm g},{\\rm e}}^{{{\\rm atom}}_{{\\rm 2}}}} {a_{{{\\rm cav}}_{{\\rm 2}}}^\\dagger} +  \\frac{g_{{2}}^{2}}{\\Delta_{{2}}}  {\\Pi_{{\\rm g}}^{{{\\rm atom}}_{{\\rm 2}}}} {a_{{{\\rm cav}}_{{\\rm 2}}}^\\dagger} {a_{{{\\rm cav}}_{{\\rm 2}}}}$"
      ],
      "text/plain": [
       "OperatorPlus(ScalarTimesOperator(\\Omega_{1}**2/(4*\\Delta_{1}), LocalSigma(LocalSpace('atom', '1'), 'e', 'e')), ScalarTimesOperator(\\Omega_{2}**2/(4*\\Delta_{2}), LocalSigma(LocalSpace('atom', '2'), 'e', 'e')), ScalarTimesOperator(-\\delta_{1}, OperatorTimes(Create(LocalSpace('cav', '1')), Destroy(LocalSpace('cav', '1')))), ScalarTimesOperator(I*\\kappa, OperatorTimes(Create(LocalSpace('cav', '1')), Destroy(LocalSpace('cav', '2')))), ScalarTimesOperator(-\\delta_{2}, OperatorTimes(Create(LocalSpace('cav', '2')), Destroy(LocalSpace('cav', '2')))), ScalarTimesOperator(-I*\\kappa, OperatorTimes(Destroy(LocalSpace('cav', '1')), Create(LocalSpace('cav', '2')))), ScalarTimesOperator(-I*\\Omega_{1}*g_{1}*exp(I*\\phi_{1})/(2*\\Delta_{1}), OperatorTimes(LocalSigma(LocalSpace('atom', '1'), 'e', 'g'), Destroy(LocalSpace('cav', '1')))), ScalarTimesOperator(I*\\Omega_{1}*g_{1}*exp(-I*\\phi_{1})/(2*\\Delta_{1}), OperatorTimes(LocalSigma(LocalSpace('atom', '1'), 'g', 'e'), Create(LocalSpace('cav', '1')))), ScalarTimesOperator(g_{1}**2/\\Delta_{1}, OperatorTimes(LocalSigma(LocalSpace('atom', '1'), 'g', 'g'), Create(LocalSpace('cav', '1')), Destroy(LocalSpace('cav', '1')))), ScalarTimesOperator(-I*\\Omega_{2}*g_{2}*exp(I*\\phi_{2})/(2*\\Delta_{2}), OperatorTimes(LocalSigma(LocalSpace('atom', '2'), 'e', 'g'), Destroy(LocalSpace('cav', '2')))), ScalarTimesOperator(I*\\Omega_{2}*g_{2}*exp(-I*\\phi_{2})/(2*\\Delta_{2}), OperatorTimes(LocalSigma(LocalSpace('atom', '2'), 'g', 'e'), Create(LocalSpace('cav', '2')))), ScalarTimesOperator(g_{2}**2/\\Delta_{2}, OperatorTimes(LocalSigma(LocalSpace('atom', '2'), 'g', 'g'), Create(LocalSpace('cav', '2')), Destroy(LocalSpace('cav', '2')))))"
      ]
     },
     "execution_count": 9,
     "metadata": {},
     "output_type": "execute_result"
    }
   ],
   "source": [
    "SYS.H"
   ]
  },
  {
   "cell_type": "code",
   "execution_count": 10,
   "metadata": {
    "collapsed": false
   },
   "outputs": [],
   "source": [
    "dw1 = Sym1['Omega']**2 / (4 * Sym1['Delta'])\n",
    "g1t = Sym1['g'] * Sym1['Omega'] / (2 * Sym1['Delta'])\n",
    "dw2 = Sym2['Omega']**2 / (4 * Sym2['Delta'])\n",
    "g2t = Sym2['g'] * Sym2['Omega'] / (2 * Sym2['Delta'])"
   ]
  },
  {
   "cell_type": "code",
   "execution_count": 11,
   "metadata": {
    "collapsed": false
   },
   "outputs": [],
   "source": [
    "H = SYS.H.substitute({dw1: sympy.symbols('\\delta\\omega_1', real=True),\n",
    "                  g1t: sympy.symbols('g_{1}^{(t)}', real=True),\n",
    "                  dw2: sympy.symbols('\\delta\\omega_2', real=True),\n",
    "                  g2t: sympy.symbols('g_{2}^{(t)}', real=True),\n",
    "                 })"
   ]
  },
  {
   "cell_type": "code",
   "execution_count": 12,
   "metadata": {
    "collapsed": false
   },
   "outputs": [
    {
     "data": {
      "text/latex": [
       "${\\rm  \\delta\\omega_{1} {\\Pi_{{\\rm e}}^{{{\\rm atom}}_{{\\rm 1}}}}} +  \\delta\\omega_{2} {\\Pi_{{\\rm e}}^{{{\\rm atom}}_{{\\rm 2}}}} -  \\delta_{{1}}  {a_{{{\\rm cav}}_{{\\rm 1}}}^\\dagger} {a_{{{\\rm cav}}_{{\\rm 1}}}} +  i \\kappa  {a_{{{\\rm cav}}_{{\\rm 1}}}^\\dagger} {a_{{{\\rm cav}}_{{\\rm 2}}}} -  \\delta_{{2}}  {a_{{{\\rm cav}}_{{\\rm 2}}}^\\dagger} {a_{{{\\rm cav}}_{{\\rm 2}}}} -  i \\kappa  {a_{{{\\rm cav}}_{{\\rm 1}}}} {a_{{{\\rm cav}}_{{\\rm 2}}}^\\dagger} -  i g^{{(t)}}_{{1}} e^{i \\phi_{{1}}}  {\\sigma_{{\\rm e},{\\rm g}}^{{{\\rm atom}}_{{\\rm 1}}}} {a_{{{\\rm cav}}_{{\\rm 1}}}} +  i g^{{(t)}}_{{1}} e^{- i \\phi_{{1}}}  {\\sigma_{{\\rm g},{\\rm e}}^{{{\\rm atom}}_{{\\rm 1}}}} {a_{{{\\rm cav}}_{{\\rm 1}}}^\\dagger} +  \\frac{g_{{1}}^{2}}{\\Delta_{{1}}}  {\\Pi_{{\\rm g}}^{{{\\rm atom}}_{{\\rm 1}}}} {a_{{{\\rm cav}}_{{\\rm 1}}}^\\dagger} {a_{{{\\rm cav}}_{{\\rm 1}}}} -  i g^{{(t)}}_{{2}} e^{i \\phi_{{2}}}  {\\sigma_{{\\rm e},{\\rm g}}^{{{\\rm atom}}_{{\\rm 2}}}} {a_{{{\\rm cav}}_{{\\rm 2}}}} +  i g^{{(t)}}_{{2}} e^{- i \\phi_{{2}}}  {\\sigma_{{\\rm g},{\\rm e}}^{{{\\rm atom}}_{{\\rm 2}}}} {a_{{{\\rm cav}}_{{\\rm 2}}}^\\dagger} +  \\frac{g_{{2}}^{2}}{\\Delta_{{2}}}  {\\Pi_{{\\rm g}}^{{{\\rm atom}}_{{\\rm 2}}}} {a_{{{\\rm cav}}_{{\\rm 2}}}^\\dagger} {a_{{{\\rm cav}}_{{\\rm 2}}}}$"
      ],
      "text/plain": [
       "OperatorPlus(ScalarTimesOperator(\\delta\\omega_1, LocalSigma(LocalSpace('atom', '1'), 'e', 'e')), ScalarTimesOperator(\\delta\\omega_2, LocalSigma(LocalSpace('atom', '2'), 'e', 'e')), ScalarTimesOperator(-\\delta_{1}, OperatorTimes(Create(LocalSpace('cav', '1')), Destroy(LocalSpace('cav', '1')))), ScalarTimesOperator(I*\\kappa, OperatorTimes(Create(LocalSpace('cav', '1')), Destroy(LocalSpace('cav', '2')))), ScalarTimesOperator(-\\delta_{2}, OperatorTimes(Create(LocalSpace('cav', '2')), Destroy(LocalSpace('cav', '2')))), ScalarTimesOperator(-I*\\kappa, OperatorTimes(Destroy(LocalSpace('cav', '1')), Create(LocalSpace('cav', '2')))), ScalarTimesOperator(-I*g_{1}^{(t)}*exp(I*\\phi_{1}), OperatorTimes(LocalSigma(LocalSpace('atom', '1'), 'e', 'g'), Destroy(LocalSpace('cav', '1')))), ScalarTimesOperator(I*g_{1}^{(t)}*exp(-I*\\phi_{1}), OperatorTimes(LocalSigma(LocalSpace('atom', '1'), 'g', 'e'), Create(LocalSpace('cav', '1')))), ScalarTimesOperator(g_{1}**2/\\Delta_{1}, OperatorTimes(LocalSigma(LocalSpace('atom', '1'), 'g', 'g'), Create(LocalSpace('cav', '1')), Destroy(LocalSpace('cav', '1')))), ScalarTimesOperator(-I*g_{2}^{(t)}*exp(I*\\phi_{2}), OperatorTimes(LocalSigma(LocalSpace('atom', '2'), 'e', 'g'), Destroy(LocalSpace('cav', '2')))), ScalarTimesOperator(I*g_{2}^{(t)}*exp(-I*\\phi_{2}), OperatorTimes(LocalSigma(LocalSpace('atom', '2'), 'g', 'e'), Create(LocalSpace('cav', '2')))), ScalarTimesOperator(g_{2}**2/\\Delta_{2}, OperatorTimes(LocalSigma(LocalSpace('atom', '2'), 'g', 'g'), Create(LocalSpace('cav', '2')), Destroy(LocalSpace('cav', '2')))))"
      ]
     },
     "execution_count": 12,
     "metadata": {},
     "output_type": "execute_result"
    }
   ],
   "source": [
    "H"
   ]
  },
  {
   "cell_type": "code",
   "execution_count": 13,
   "metadata": {
    "collapsed": false
   },
   "outputs": [],
   "source": [
    "L = SYS.L[0,0]"
   ]
  },
  {
   "cell_type": "code",
   "execution_count": 14,
   "metadata": {
    "collapsed": false
   },
   "outputs": [
    {
     "data": {
      "text/latex": [
       "${\\rm  \\sqrt{2} \\sqrt{\\kappa} {a_{{{\\rm cav}}_{{\\rm 1}}}}} +  \\sqrt{2} \\sqrt{\\kappa} {a_{{{\\rm cav}}_{{\\rm 2}}}}$"
      ],
      "text/plain": [
       "OperatorPlus(ScalarTimesOperator(sqrt(2)*sqrt(\\kappa), Destroy(LocalSpace('cav', '1'))), ScalarTimesOperator(sqrt(2)*sqrt(\\kappa), Destroy(LocalSpace('cav', '2'))))"
      ]
     },
     "execution_count": 14,
     "metadata": {},
     "output_type": "execute_result"
    }
   ],
   "source": [
    "L"
   ]
  },
  {
   "cell_type": "code",
   "execution_count": 15,
   "metadata": {
    "collapsed": false
   },
   "outputs": [
    {
     "data": {
      "text/latex": [
       "${{\\rm atom}}_{{\\rm 1}} \\otimes {{\\rm atom}}_{{\\rm 2}} \\otimes {{\\rm cav}}_{{\\rm 1}} \\otimes {{\\rm cav}}_{{\\rm 2}}$"
      ],
      "text/plain": [
       "ProductSpace(LocalSpace('atom', '1'), LocalSpace('atom', '2'), LocalSpace('cav', '1'), LocalSpace('cav', '2'))"
      ]
     },
     "execution_count": 15,
     "metadata": {},
     "output_type": "execute_result"
    }
   ],
   "source": [
    "H.space"
   ]
  },
  {
   "cell_type": "code",
   "execution_count": 16,
   "metadata": {
    "collapsed": false
   },
   "outputs": [],
   "source": [
    "M = qnet.misc.to_sympy_matrix.convert_to_sympy_matrix(H)"
   ]
  },
  {
   "cell_type": "code",
   "execution_count": 17,
   "metadata": {
    "collapsed": false
   },
   "outputs": [
    {
     "data": {
      "image/png": "[encoded data removed]",
      "text/latex": [
       "$$\\left[\\begin{array}{cccccccccccccccc}0 & 0 & 0 & 0 & 0 & 0 & 0 & 0 & 0 & 0 & 0 & 0 & 0 & 0 & 0 & 0\\\\0 & - \\delta_{{2}} + \\frac{g_{{2}}^{2}}{\\Delta_{{2}}} & - i \\kappa & 0 & i g^{{(t)}}_{{2}} e^{- i \\phi_{{2}}} & 0 & 0 & 0 & 0 & 0 & 0 & 0 & 0 & 0 & 0 & 0\\\\0 & i \\kappa & - \\delta_{{1}} + \\frac{g_{{1}}^{2}}{\\Delta_{{1}}} & 0 & 0 & 0 & 0 & 0 & i g^{{(t)}}_{{1}} e^{- i \\phi_{{1}}} & 0 & 0 & 0 & 0 & 0 & 0 & 0\\\\0 & 0 & 0 & - \\delta_{{1}} - \\delta_{{2}} + \\frac{g_{{2}}^{2}}{\\Delta_{{2}}} + \\frac{g_{{1}}^{2}}{\\Delta_{{1}}} & 0 & 0 & i g^{{(t)}}_{{2}} e^{- i \\phi_{{2}}} & 0 & 0 & i g^{{(t)}}_{{1}} e^{- i \\phi_{{1}}} & 0 & 0 & 0 & 0 & 0 & 0\\\\0 & - i g^{{(t)}}_{{2}} e^{i \\phi_{{2}}} & 0 & 0 & \\delta\\omega_{2} & 0 & 0 & 0 & 0 & 0 & 0 & 0 & 0 & 0 & 0 & 0\\\\0 & 0 & 0 & 0 & 0 & \\delta\\omega_{2} - \\delta_{{2}} & - i \\kappa & 0 & 0 & 0 & 0 & 0 & 0 & 0 & 0 & 0\\\\0 & 0 & 0 & - i g^{{(t)}}_{{2}} e^{i \\phi_{{2}}} & 0 & i \\kappa & \\delta\\omega_{2} - \\delta_{{1}} + \\frac{g_{{1}}^{2}}{\\Delta_{{1}}} & 0 & 0 & 0 & 0 & 0 & i g^{{(t)}}_{{1}} e^{- i \\phi_{{1}}} & 0 & 0 & 0\\\\0 & 0 & 0 & 0 & 0 & 0 & 0 & \\delta\\omega_{2} - \\delta_{{1}} - \\delta_{{2}} + \\frac{g_{{1}}^{2}}{\\Delta_{{1}}} & 0 & 0 & 0 & 0 & 0 & i g^{{(t)}}_{{1}} e^{- i \\phi_{{1}}} & 0 & 0\\\\0 & 0 & - i g^{{(t)}}_{{1}} e^{i \\phi_{{1}}} & 0 & 0 & 0 & 0 & 0 & \\delta\\omega_{1} & 0 & 0 & 0 & 0 & 0 & 0 & 0\\\\0 & 0 & 0 & - i g^{{(t)}}_{{1}} e^{i \\phi_{{1}}} & 0 & 0 & 0 & 0 & 0 & \\delta\\omega_{1} - \\delta_{{2}} + \\frac{g_{{2}}^{2}}{\\Delta_{{2}}} & - i \\kappa & 0 & i g^{{(t)}}_{{2}} e^{- i \\phi_{{2}}} & 0 & 0 & 0\\\\0 & 0 & 0 & 0 & 0 & 0 & 0 & 0 & 0 & i \\kappa & \\delta\\omega_{1} - \\delta_{{1}} & 0 & 0 & 0 & 0 & 0\\\\0 & 0 & 0 & 0 & 0 & 0 & 0 & 0 & 0 & 0 & 0 & \\delta\\omega_{1} - \\delta_{{1}} - \\delta_{{2}} + \\frac{g_{{2}}^{2}}{\\Delta_{{2}}} & 0 & 0 & i g^{{(t)}}_{{2}} e^{- i \\phi_{{2}}} & 0\\\\0 & 0 & 0 & 0 & 0 & 0 & - i g^{{(t)}}_{{1}} e^{i \\phi_{{1}}} & 0 & 0 & - i g^{{(t)}}_{{2}} e^{i \\phi_{{2}}} & 0 & 0 & \\delta\\omega_{1} + \\delta\\omega_{2} & 0 & 0 & 0\\\\0 & 0 & 0 & 0 & 0 & 0 & 0 & - i g^{{(t)}}_{{1}} e^{i \\phi_{{1}}} & 0 & 0 & 0 & 0 & 0 & \\delta\\omega_{1} + \\delta\\omega_{2} - \\delta_{{2}} & - i \\kappa & 0\\\\0 & 0 & 0 & 0 & 0 & 0 & 0 & 0 & 0 & 0 & 0 & - i g^{{(t)}}_{{2}} e^{i \\phi_{{2}}} & 0 & i \\kappa & \\delta\\omega_{1} + \\delta\\omega_{2} - \\delta_{{1}} & 0\\\\0 & 0 & 0 & 0 & 0 & 0 & 0 & 0 & 0 & 0 & 0 & 0 & 0 & 0 & 0 & \\delta\\omega_{1} + \\delta\\omega_{2} - \\delta_{{1}} - \\delta_{{2}}\\end{array}\\right]$$"
      ],
      "text/plain": [
       "⎡0               0                            0                               \n",
       "⎢                                                                             \n",
       "⎢                         2                                                   \n",
       "⎢                    g_{2}                                                    \n",
       "⎢0   -\\delta_{2} + ──────────             -ⅈ⋅\\kappa                           \n",
       "⎢                  \\Delta_{2}                                                 \n",
       "⎢                                                                             \n",
       "⎢                                                      2                      \n",
       "⎢                                                 g_{1}                       \n",
       "⎢0           ⅈ⋅\\kappa             -\\delta_{1} + ──────────                    \n",
       "⎢                                               \\Delta_{1}                    \n",
       "⎢                                                                             \n",
       "⎢                                                                             \n",
       "⎢                                                                             \n",
       "⎢0               0                            0               -\\delta_{1} - \\d\n",
       "⎢                                                                             \n",
       "⎢                                                                             \n",
       "⎢                    ⅈ⋅\\phi_{2}                                               \n",
       "⎢0  -ⅈ⋅g_{2}__{(t)}⋅ℯ                         0                               \n",
       "⎢                                                                             \n",
       "⎢0               0                            0                               \n",
       "⎢                                                                             \n",
       "⎢                                                                             \n",
       "⎢                                                                             \n",
       "⎢0               0                            0                          -ⅈ⋅g_\n",
       "⎢                                                                             \n",
       "⎢                                                                             \n",
       "⎢                                                                             \n",
       "⎢                                                                             \n",
       "⎢0               0                            0                               \n",
       "⎢                                                                             \n",
       "⎢                                                                             \n",
       "⎢                                                 ⅈ⋅\\phi_{1}                  \n",
       "⎢0               0               -ⅈ⋅g_{1}__{(t)}⋅ℯ                            \n",
       "⎢                                                                             \n",
       "⎢                                                                             \n",
       "⎢                                                                             \n",
       "⎢0               0                            0                          -ⅈ⋅g_\n",
       "⎢                                                                             \n",
       "⎢                                                                             \n",
       "⎢0               0                            0                               \n",
       "⎢                                                                             \n",
       "⎢                                                                             \n",
       "⎢                                                                             \n",
       "⎢0               0                            0                               \n",
       "⎢                                                                             \n",
       "⎢                                                                             \n",
       "⎢                                                                             \n",
       "⎢0               0                            0                               \n",
       "⎢                                                                             \n",
       "⎢                                                                             \n",
       "⎢0               0                            0                               \n",
       "⎢                                                                             \n",
       "⎢                                                                             \n",
       "⎢0               0                            0                               \n",
       "⎢                                                                             \n",
       "⎣0               0                            0                               \n",
       "\n",
       "        0                                        0                           0\n",
       "                                                                              \n",
       "                                                                              \n",
       "                                                    -ⅈ⋅\\phi_{2}               \n",
       "        0                           ⅈ⋅g_{2}__{(t)}⋅ℯ                         0\n",
       "                                                                              \n",
       "                                                                              \n",
       "                                                                              \n",
       "                                                                              \n",
       "        0                                        0                           0\n",
       "                                                                              \n",
       "                                                                              \n",
       "                  2            2                                              \n",
       "             g_{2}        g_{1}                                               \n",
       "elta_{2} + ────────── + ──────────               0                           0\n",
       "           \\Delta_{2}   \\Delta_{1}                                            \n",
       "                                                                              \n",
       "                                                                              \n",
       "        0                                  \\delta\\omega₂                     0\n",
       "                                                                              \n",
       "        0                                        0               \\delta\\omega₂\n",
       "                                                                              \n",
       "                                                                              \n",
       "            ⅈ⋅\\phi_{2}                                                        \n",
       "{2}__{(t)}⋅ℯ                                     0                        ⅈ⋅\\k\n",
       "                                                                              \n",
       "                                                                              \n",
       "                                                                              \n",
       "                                                                              \n",
       "        0                                        0                           0\n",
       "                                                                              \n",
       "                                                                              \n",
       "                                                                              \n",
       "        0                                        0                           0\n",
       "                                                                              \n",
       "                                                                              \n",
       "            ⅈ⋅\\phi_{1}                                                        \n",
       "{1}__{(t)}⋅ℯ                                     0                           0\n",
       "                                                                              \n",
       "                                                                              \n",
       "        0                                        0                           0\n",
       "                                                                              \n",
       "                                                                              \n",
       "                                                                              \n",
       "        0                                        0                           0\n",
       "                                                                              \n",
       "                                                                              \n",
       "                                                                              \n",
       "        0                                        0                           0\n",
       "                                                                              \n",
       "                                                                              \n",
       "        0                                        0                           0\n",
       "                                                                              \n",
       "                                                                              \n",
       "        0                                        0                           0\n",
       "                                                                              \n",
       "        0                                        0                           0\n",
       "\n",
       "                                  0                                           \n",
       "                                                                              \n",
       "                                                                              \n",
       "                                                                              \n",
       "                                  0                                           \n",
       "                                                                              \n",
       "                                                                              \n",
       "                                                                              \n",
       "                                                                              \n",
       "                                  0                                           \n",
       "                                                                              \n",
       "                                                                              \n",
       "                                                                              \n",
       "                                     -ⅈ⋅\\phi_{2}                              \n",
       "                     ⅈ⋅g_{2}__{(t)}⋅ℯ                                         \n",
       "                                                                              \n",
       "                                                                              \n",
       "                                                                              \n",
       "                                  0                                           \n",
       "                                                                              \n",
       " - \\delta_{2}                 -ⅈ⋅\\kappa                                       \n",
       "                                                                              \n",
       "                                                   2                          \n",
       "                                              g_{1}                           \n",
       "appa           \\delta\\omega₂ - \\delta_{1} + ──────────                        \n",
       "                                            \\Delta_{1}                        \n",
       "                                                                              \n",
       "                                                                              \n",
       "                                                                              \n",
       "                                  0                     \\delta\\omega₂ - \\delta\n",
       "                                                                              \n",
       "                                                                              \n",
       "                                                                              \n",
       "                                  0                                           \n",
       "                                                                              \n",
       "                                                                              \n",
       "                                                                              \n",
       "                                  0                                           \n",
       "                                                                              \n",
       "                                                                              \n",
       "                                  0                                           \n",
       "                                                                              \n",
       "                                                                              \n",
       "                                                                              \n",
       "                                  0                                           \n",
       "                                                                              \n",
       "                                                                              \n",
       "                                      ⅈ⋅\\phi_{1}                              \n",
       "                     -ⅈ⋅g_{1}__{(t)}⋅ℯ                                        \n",
       "                                                                              \n",
       "                                                                              \n",
       "                                  0                                 -ⅈ⋅g_{1}__\n",
       "                                                                              \n",
       "                                                                              \n",
       "                                  0                                           \n",
       "                                                                              \n",
       "                                  0                                           \n",
       "\n",
       "   0                                         0                                \n",
       "                                                                              \n",
       "                                                                              \n",
       "                                                                              \n",
       "   0                                         0                                \n",
       "                                                                              \n",
       "                                                                              \n",
       "                                                                              \n",
       "                                                -ⅈ⋅\\phi_{1}                   \n",
       "   0                            ⅈ⋅g_{1}__{(t)}⋅ℯ                              \n",
       "                                                                              \n",
       "                                                                              \n",
       "                                                                              \n",
       "                                                                              \n",
       "   0                                         0                     ⅈ⋅g_{1}__{(\n",
       "                                                                              \n",
       "                                                                              \n",
       "                                                                              \n",
       "   0                                         0                                \n",
       "                                                                              \n",
       "   0                                         0                                \n",
       "                                                                              \n",
       "                                                                              \n",
       "                                                                              \n",
       "   0                                         0                                \n",
       "                                                                              \n",
       "                                                                              \n",
       "                           2                                                  \n",
       "                      g_{1}                                                   \n",
       "_{1} - \\delta_{2} + ──────────               0                                \n",
       "                    \\Delta_{1}                                                \n",
       "                                                                              \n",
       "                                                                              \n",
       "   0                                   \\delta\\omega₁                          \n",
       "                                                                              \n",
       "                                                                              \n",
       "                                                                              \n",
       "   0                                         0               \\delta\\omega₁ - \\\n",
       "                                                                              \n",
       "                                                                              \n",
       "   0                                         0                              ⅈ⋅\n",
       "                                                                              \n",
       "                                                                              \n",
       "                                                                              \n",
       "   0                                         0                                \n",
       "                                                                              \n",
       "                                                                              \n",
       "                                                                              \n",
       "   0                                         0                     -ⅈ⋅g_{2}__{\n",
       "                                                                              \n",
       "       ⅈ⋅\\phi_{1}                                                             \n",
       "{(t)}⋅ℯ                                      0                                \n",
       "                                                                              \n",
       "                                                                              \n",
       "   0                                         0                                \n",
       "                                                                              \n",
       "   0                                         0                                \n",
       "\n",
       "  0                                 0                                        0\n",
       "                                                                              \n",
       "                                                                              \n",
       "                                                                              \n",
       "  0                                 0                                        0\n",
       "                                                                              \n",
       "                                                                              \n",
       "                                                                              \n",
       "                                                                              \n",
       "  0                                 0                                        0\n",
       "                                                                              \n",
       "                                                                              \n",
       "                                                                              \n",
       "     -ⅈ⋅\\phi_{1}                                                              \n",
       "t)}⋅ℯ                               0                                        0\n",
       "                                                                              \n",
       "                                                                              \n",
       "                                                                              \n",
       "  0                                 0                                        0\n",
       "                                                                              \n",
       "  0                                 0                                        0\n",
       "                                                                              \n",
       "                                                                              \n",
       "                                                                              \n",
       "  0                                 0                                        0\n",
       "                                                                              \n",
       "                                                                              \n",
       "                                                                              \n",
       "                                                                              \n",
       "  0                                 0                                        0\n",
       "                                                                              \n",
       "                                                                              \n",
       "                                                                              \n",
       "  0                                 0                                        0\n",
       "                                                                              \n",
       "                   2                                                          \n",
       "              g_{2}                                                           \n",
       "delta_{2} + ──────────          -ⅈ⋅\\kappa                                    0\n",
       "            \\Delta_{2}                                                        \n",
       "                                                                              \n",
       "\\kappa                  \\delta\\omega₁ - \\delta_{1}                           0\n",
       "                                                                              \n",
       "                                                                              \n",
       "                                                                              \n",
       "  0                                 0               \\delta\\omega₁ - \\delta_{1}\n",
       "                                                                              \n",
       "                                                                              \n",
       "      ⅈ⋅\\phi_{2}                                                              \n",
       "(t)}⋅ℯ                              0                                        0\n",
       "                                                                              \n",
       "                                                                              \n",
       "  0                                 0                                        0\n",
       "                                                                              \n",
       "                                                                              \n",
       "  0                                 0                           -ⅈ⋅g_{2}__{(t)\n",
       "                                                                              \n",
       "  0                                 0                                        0\n",
       "\n",
       "                                          0                                   \n",
       "                                                                              \n",
       "                                                                              \n",
       "                                                                              \n",
       "                                          0                                   \n",
       "                                                                              \n",
       "                                                                              \n",
       "                                                                              \n",
       "                                                                              \n",
       "                                          0                                   \n",
       "                                                                              \n",
       "                                                                              \n",
       "                                                                              \n",
       "                                                                              \n",
       "                                          0                                   \n",
       "                                                                              \n",
       "                                                                              \n",
       "                                                                              \n",
       "                                          0                                   \n",
       "                                                                              \n",
       "                                          0                                   \n",
       "                                                                              \n",
       "                                                                              \n",
       "                                             -ⅈ⋅\\phi_{1}                      \n",
       "                             ⅈ⋅g_{1}__{(t)}⋅ℯ                                 \n",
       "                                                                              \n",
       "                                                                              \n",
       "                                                                              \n",
       "                                                                              \n",
       "                                          0                       ⅈ⋅g_{1}__{(t\n",
       "                                                                              \n",
       "                                                                              \n",
       "                                                                              \n",
       "                                          0                                   \n",
       "                                                                              \n",
       "                                                                              \n",
       "                                             -ⅈ⋅\\phi_{2}                      \n",
       "                             ⅈ⋅g_{2}__{(t)}⋅ℯ                                 \n",
       "                                                                              \n",
       "                                                                              \n",
       "                                          0                                   \n",
       "                                                                              \n",
       "                       2                                                      \n",
       "                  g_{2}                                                       \n",
       " - \\delta_{2} + ──────────                0                                   \n",
       "                \\Delta_{2}                                                    \n",
       "                                                                              \n",
       "                                                                              \n",
       "                            \\delta\\omega₁ + \\delta\\omega₂                     \n",
       "                                                                              \n",
       "                                                                              \n",
       "                                          0                \\delta\\omega₁ + \\de\n",
       "                                                                              \n",
       "   ⅈ⋅\\phi_{2}                                                                 \n",
       "}⋅ℯ                                       0                                 ⅈ⋅\n",
       "                                                                              \n",
       "                                          0                                   \n",
       "\n",
       " 0                                           0                                \n",
       "                                                                              \n",
       "                                                                              \n",
       "                                                                              \n",
       " 0                                           0                                \n",
       "                                                                              \n",
       "                                                                              \n",
       "                                                                              \n",
       "                                                                              \n",
       " 0                                           0                                \n",
       "                                                                              \n",
       "                                                                              \n",
       "                                                                              \n",
       "                                                                              \n",
       " 0                                           0                                \n",
       "                                                                              \n",
       "                                                                              \n",
       "                                                                              \n",
       " 0                                           0                                \n",
       "                                                                              \n",
       " 0                                           0                                \n",
       "                                                                              \n",
       "                                                                              \n",
       "                                                                              \n",
       " 0                                           0                                \n",
       "                                                                              \n",
       "                                                                              \n",
       "                                                                              \n",
       "    -ⅈ⋅\\phi_{1}                                                               \n",
       ")}⋅ℯ                                         0                                \n",
       "                                                                              \n",
       "                                                                              \n",
       "                                                                              \n",
       " 0                                           0                                \n",
       "                                                                              \n",
       "                                                                              \n",
       "                                                                              \n",
       " 0                                           0                                \n",
       "                                                                              \n",
       "                                                                              \n",
       " 0                                           0                                \n",
       "                                                                              \n",
       "                                                                              \n",
       "                                                -ⅈ⋅\\phi_{2}                   \n",
       " 0                              ⅈ⋅g_{2}__{(t)}⋅ℯ                              \n",
       "                                                                              \n",
       "                                                                              \n",
       "                                                                              \n",
       " 0                                           0                                \n",
       "                                                                              \n",
       "                                                                              \n",
       "lta\\omega₂ - \\delta_{2}                  -ⅈ⋅\\kappa                            \n",
       "                                                                              \n",
       "                                                                              \n",
       "\\kappa                   \\delta\\omega₁ + \\delta\\omega₂ - \\delta_{1}           \n",
       "                                                                              \n",
       " 0                                           0                       \\delta\\om\n",
       "\n",
       "                  0                           ⎤\n",
       "                                              ⎥\n",
       "                                              ⎥\n",
       "                                              ⎥\n",
       "                  0                           ⎥\n",
       "                                              ⎥\n",
       "                                              ⎥\n",
       "                                              ⎥\n",
       "                                              ⎥\n",
       "                  0                           ⎥\n",
       "                                              ⎥\n",
       "                                              ⎥\n",
       "                                              ⎥\n",
       "                                              ⎥\n",
       "                  0                           ⎥\n",
       "                                              ⎥\n",
       "                                              ⎥\n",
       "                                              ⎥\n",
       "                  0                           ⎥\n",
       "                                              ⎥\n",
       "                  0                           ⎥\n",
       "                                              ⎥\n",
       "                                              ⎥\n",
       "                                              ⎥\n",
       "                  0                           ⎥\n",
       "                                              ⎥\n",
       "                                              ⎥\n",
       "                                              ⎥\n",
       "                                              ⎥\n",
       "                  0                           ⎥\n",
       "                                              ⎥\n",
       "                                              ⎥\n",
       "                                              ⎥\n",
       "                  0                           ⎥\n",
       "                                              ⎥\n",
       "                                              ⎥\n",
       "                                              ⎥\n",
       "                  0                           ⎥\n",
       "                                              ⎥\n",
       "                                              ⎥\n",
       "                  0                           ⎥\n",
       "                                              ⎥\n",
       "                                              ⎥\n",
       "                                              ⎥\n",
       "                  0                           ⎥\n",
       "                                              ⎥\n",
       "                                              ⎥\n",
       "                                              ⎥\n",
       "                  0                           ⎥\n",
       "                                              ⎥\n",
       "                                              ⎥\n",
       "                  0                           ⎥\n",
       "                                              ⎥\n",
       "                                              ⎥\n",
       "                  0                           ⎥\n",
       "                                              ⎥\n",
       "ega₁ + \\delta\\omega₂ - \\delta_{1} - \\delta_{2}⎦"
      ]
     },
     "execution_count": 17,
     "metadata": {},
     "output_type": "execute_result"
    }
   ],
   "source": [
    "M"
   ]
  },
  {
   "cell_type": "code",
   "execution_count": null,
   "metadata": {
    "collapsed": true
   },
   "outputs": [],
   "source": []
  }
 ],
 "metadata": {
  "kernelspec": {
   "display_name": "goerz-QNET",
   "language": "python",
   "name": "goerz_qnet"
  },
  "language_info": {
   "codemirror_mode": {
    "name": "ipython",
    "version": 3
   },
   "file_extension": ".py",
   "mimetype": "text/x-python",
   "name": "python",
   "nbconvert_exporter": "python",
   "pygments_lexer": "ipython3",
   "version": "3.4.5"
  },
  "toc": {
   "toc_cell": false,
   "toc_number_sections": true,
   "toc_threshold": 6,
   "toc_window_display": true
  }
 },
 "nbformat": 4,
 "nbformat_minor": 0
}
