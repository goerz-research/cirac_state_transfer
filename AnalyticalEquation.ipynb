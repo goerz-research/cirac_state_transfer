{
 "cells": [
  {
   "cell_type": "markdown",
   "metadata": {},
   "source": [
    "# Analytical Derivation of the dynamical Equations"
   ]
  },
  {
   "cell_type": "code",
   "execution_count": 1,
   "metadata": {
    "collapsed": true
   },
   "outputs": [],
   "source": [
    "import sympy"
   ]
  },
  {
   "cell_type": "code",
   "execution_count": 2,
   "metadata": {
    "collapsed": true
   },
   "outputs": [],
   "source": [
    "from sympy.physics.quantum import TensorProduct"
   ]
  },
  {
   "cell_type": "code",
   "execution_count": 3,
   "metadata": {
    "collapsed": true
   },
   "outputs": [],
   "source": [
    "from sympy import I, exp, sqrt"
   ]
  },
  {
   "cell_type": "code",
   "execution_count": 4,
   "metadata": {
    "collapsed": true
   },
   "outputs": [],
   "source": [
    "import numpy as np"
   ]
  },
  {
   "cell_type": "code",
   "execution_count": 5,
   "metadata": {
    "collapsed": true
   },
   "outputs": [],
   "source": [
    "sympy.init_printing()"
   ]
  },
  {
   "cell_type": "code",
   "execution_count": 6,
   "metadata": {
    "collapsed": true
   },
   "outputs": [],
   "source": [
    "from IPython.display import display, Math"
   ]
  },
  {
   "cell_type": "code",
   "execution_count": 7,
   "metadata": {
    "collapsed": false
   },
   "outputs": [],
   "source": [
    "def multiply_eq(eq, c, simplify=sympy.expand):\n",
    "    \"\"\"Multiply an equation with a constant\"\"\"\n",
    "    return sympy.Eq(simplify(eq.lhs*c), simplify(eq.rhs*c))"
   ]
  },
  {
   "cell_type": "code",
   "execution_count": 8,
   "metadata": {
    "collapsed": false
   },
   "outputs": [],
   "source": [
    "def divide_eq(eq, c, simplify=sympy.expand):\n",
    "    \"\"\"Divide an equation by constant\"\"\"\n",
    "    return sympy.Eq(simplify(eq.lhs/c), simplify(eq.rhs/c))"
   ]
  },
  {
   "cell_type": "code",
   "execution_count": 9,
   "metadata": {
    "collapsed": false
   },
   "outputs": [],
   "source": [
    "def add_eqs(eq1, eq2, fac1=1, fac2=1, simplify=sympy.expand):\n",
    "    \"\"\"Add two equations\"\"\"\n",
    "    return sympy.Eq(\n",
    "        simplify(fac1 * eq1.lhs + fac2 * eq2.lhs),\n",
    "        simplify(fac1 * eq1.rhs + fac2 * eq2.rhs)\n",
    "    )"
   ]
  },
  {
   "cell_type": "code",
   "execution_count": 10,
   "metadata": {
    "collapsed": true
   },
   "outputs": [],
   "source": [
    "def display_eqs(eqs):\n",
    "    for eq in eqs:\n",
    "        display(eq)"
   ]
  },
  {
   "cell_type": "markdown",
   "metadata": {},
   "source": [
    "## Hamiltonian"
   ]
  },
  {
   "cell_type": "markdown",
   "metadata": {},
   "source": [
    "The Hilbert space is the tensor product of qubit 1, qubit 2, cavity 1, cavity 2, all are TLS"
   ]
  },
  {
   "cell_type": "code",
   "execution_count": 11,
   "metadata": {
    "collapsed": false
   },
   "outputs": [],
   "source": [
    "def ketbra(i,j):\n",
    "    level = {'e': 1, 'g': 0, '1':1, '0':0, 1:1, 0:0}\n",
    "    i = level[i]\n",
    "    j = level[j]\n",
    "    result = {\n",
    "        (0,0): sympy.Matrix([(1,0), (0,0)]),\n",
    "        (0,1): sympy.Matrix([(0,1), (0,0)]),\n",
    "        (1,0): sympy.Matrix([(0,0), (1,0)]),\n",
    "        (1,1): sympy.Matrix([(0,0), (0,1)]),\n",
    "    }\n",
    "    return result[(i,j)]"
   ]
  },
  {
   "cell_type": "code",
   "execution_count": 12,
   "metadata": {
    "collapsed": true
   },
   "outputs": [],
   "source": [
    "def dagger(obj):\n",
    "    return obj.conjugate().transpose()"
   ]
  },
  {
   "cell_type": "code",
   "execution_count": 13,
   "metadata": {
    "collapsed": false
   },
   "outputs": [],
   "source": [
    "Id = sympy.Matrix([(1,0), (0,1)])"
   ]
  },
  {
   "cell_type": "code",
   "execution_count": 14,
   "metadata": {
    "collapsed": false
   },
   "outputs": [],
   "source": [
    "δ1, δ2, g1, g2, Δ, κ, t \\\n",
    "= sympy.symbols((r'\\delta_1', r'\\delta_2', 'g_1', 'g_2',\n",
    "                 r'\\Delta', r'\\kappa', 't'), positive=True)\n",
    "ω1, ω2, g1t, g2t, ϕ1, ϕ2 \\\n",
    "= sympy.symbols((r'\\delta\\omega_1', r'\\delta\\omega_2', r'g_1', r'g_2',\n",
    "                 '\\phi_1', '\\phi_2'), cls=sympy.Function)"
   ]
  },
  {
   "cell_type": "code",
   "execution_count": 15,
   "metadata": {
    "collapsed": false
   },
   "outputs": [],
   "source": [
    "H1 = -δ1 * TensorProduct(Id, Id, ketbra(1,1), Id) \\\n",
    "    + (g1**2/Δ) * TensorProduct(ketbra('g', 'g'), Id, ketbra(1,1), Id) \\\n",
    "    + ω1(t) * TensorProduct(ketbra('e', 'e'), Id, Id, Id) \\\n",
    "    - I * g1t(t) * (\n",
    "        exp(I*ϕ1(t)) * TensorProduct(ketbra('e', 'g'), Id, ketbra(1,1), Id)\n",
    "        - exp(-I*ϕ1(t)) * TensorProduct(ketbra('g', 'e'), Id, ketbra(1,1), Id)\n",
    "      )"
   ]
  },
  {
   "cell_type": "code",
   "execution_count": 16,
   "metadata": {
    "collapsed": false
   },
   "outputs": [],
   "source": [
    "H2 = -δ2 * TensorProduct(Id, Id, Id, ketbra(1,1)) \\\n",
    "    + (g2**2/Δ) * TensorProduct(Id, ketbra('g', 'g'), Id, ketbra(1,1)) \\\n",
    "    + ω2(t) * TensorProduct(Id, ketbra('e', 'e'), Id, Id) \\\n",
    "    - I * g2t(t) * (\n",
    "        exp(I*ϕ2(t)) * TensorProduct(Id, ketbra('e', 'g'), Id, ketbra(1,1))\n",
    "        - exp(-I*ϕ2(t)) * TensorProduct(Id, ketbra('g', 'e'), Id, ketbra(1,1))\n",
    "      )"
   ]
  },
  {
   "cell_type": "code",
   "execution_count": 17,
   "metadata": {
    "collapsed": false
   },
   "outputs": [],
   "source": [
    "L = sqrt(2*κ) * (  TensorProduct(Id, Id, ketbra(0,1), Id)\n",
    "                 + TensorProduct(Id, Id, Id, ketbra(0,1)) )"
   ]
  },
  {
   "cell_type": "code",
   "execution_count": 18,
   "metadata": {
    "collapsed": false
   },
   "outputs": [],
   "source": [
    "H_int = - I * κ * (\n",
    "            TensorProduct(Id, Id, ketbra(1,1), Id)\n",
    "          + TensorProduct(Id, Id, Id, ketbra(1,1))\n",
    "          + 2 * TensorProduct(Id, Id, ketbra(0,1), ketbra(1,0))\n",
    "        )\n",
    "# The above is the \"effective\" interaction term, including the non-Hermitian MCWF contribution\n",
    "# We want the Hermitian Hamiltonian, not the effective Hamiltonian given in the paper\n",
    "# (or maybe we don't -- this isn't entirely clear)\n",
    "H_int += (I/2) * (dagger(L) * L)"
   ]
  },
  {
   "cell_type": "code",
   "execution_count": 19,
   "metadata": {
    "collapsed": false
   },
   "outputs": [
    {
     "data": {
      "image/png": "[encoded data removed]",
      "text/latex": [
       "$$\\left[\\begin{array}{cccccccccccccccc}0 & 0 & 0 & 0 & 0 & 0 & 0 & 0 & 0 & 0 & 0 & 0 & 0 & 0 & 0 & 0\\\\0 & 0 & - i \\kappa & 0 & 0 & 0 & 0 & 0 & 0 & 0 & 0 & 0 & 0 & 0 & 0 & 0\\\\0 & i \\kappa & 0 & 0 & 0 & 0 & 0 & 0 & 0 & 0 & 0 & 0 & 0 & 0 & 0 & 0\\\\0 & 0 & 0 & 0 & 0 & 0 & 0 & 0 & 0 & 0 & 0 & 0 & 0 & 0 & 0 & 0\\\\0 & 0 & 0 & 0 & 0 & 0 & 0 & 0 & 0 & 0 & 0 & 0 & 0 & 0 & 0 & 0\\\\0 & 0 & 0 & 0 & 0 & 0 & - i \\kappa & 0 & 0 & 0 & 0 & 0 & 0 & 0 & 0 & 0\\\\0 & 0 & 0 & 0 & 0 & i \\kappa & 0 & 0 & 0 & 0 & 0 & 0 & 0 & 0 & 0 & 0\\\\0 & 0 & 0 & 0 & 0 & 0 & 0 & 0 & 0 & 0 & 0 & 0 & 0 & 0 & 0 & 0\\\\0 & 0 & 0 & 0 & 0 & 0 & 0 & 0 & 0 & 0 & 0 & 0 & 0 & 0 & 0 & 0\\\\0 & 0 & 0 & 0 & 0 & 0 & 0 & 0 & 0 & 0 & - i \\kappa & 0 & 0 & 0 & 0 & 0\\\\0 & 0 & 0 & 0 & 0 & 0 & 0 & 0 & 0 & i \\kappa & 0 & 0 & 0 & 0 & 0 & 0\\\\0 & 0 & 0 & 0 & 0 & 0 & 0 & 0 & 0 & 0 & 0 & 0 & 0 & 0 & 0 & 0\\\\0 & 0 & 0 & 0 & 0 & 0 & 0 & 0 & 0 & 0 & 0 & 0 & 0 & 0 & 0 & 0\\\\0 & 0 & 0 & 0 & 0 & 0 & 0 & 0 & 0 & 0 & 0 & 0 & 0 & 0 & - i \\kappa & 0\\\\0 & 0 & 0 & 0 & 0 & 0 & 0 & 0 & 0 & 0 & 0 & 0 & 0 & i \\kappa & 0 & 0\\\\0 & 0 & 0 & 0 & 0 & 0 & 0 & 0 & 0 & 0 & 0 & 0 & 0 & 0 & 0 & 0\\end{array}\\right]$$"
      ],
      "text/plain": [
       "⎡0     0          0      0  0     0          0      0  0     0          0     \n",
       "⎢                                                                             \n",
       "⎢0     0      -ⅈ⋅\\kappa  0  0     0          0      0  0     0          0     \n",
       "⎢                                                                             \n",
       "⎢0  ⅈ⋅\\kappa      0      0  0     0          0      0  0     0          0     \n",
       "⎢                                                                             \n",
       "⎢0     0          0      0  0     0          0      0  0     0          0     \n",
       "⎢                                                                             \n",
       "⎢0     0          0      0  0     0          0      0  0     0          0     \n",
       "⎢                                                                             \n",
       "⎢0     0          0      0  0     0      -ⅈ⋅\\kappa  0  0     0          0     \n",
       "⎢                                                                             \n",
       "⎢0     0          0      0  0  ⅈ⋅\\kappa      0      0  0     0          0     \n",
       "⎢                                                                             \n",
       "⎢0     0          0      0  0     0          0      0  0     0          0     \n",
       "⎢                                                                             \n",
       "⎢0     0          0      0  0     0          0      0  0     0          0     \n",
       "⎢                                                                             \n",
       "⎢0     0          0      0  0     0          0      0  0     0      -ⅈ⋅\\kappa \n",
       "⎢                                                                             \n",
       "⎢0     0          0      0  0     0          0      0  0  ⅈ⋅\\kappa      0     \n",
       "⎢                                                                             \n",
       "⎢0     0          0      0  0     0          0      0  0     0          0     \n",
       "⎢                                                                             \n",
       "⎢0     0          0      0  0     0          0      0  0     0          0     \n",
       "⎢                                                                             \n",
       "⎢0     0          0      0  0     0          0      0  0     0          0     \n",
       "⎢                                                                             \n",
       "⎢0     0          0      0  0     0          0      0  0     0          0     \n",
       "⎢                                                                             \n",
       "⎣0     0          0      0  0     0          0      0  0     0          0     \n",
       "\n",
       " 0  0     0          0      0⎤\n",
       "                             ⎥\n",
       " 0  0     0          0      0⎥\n",
       "                             ⎥\n",
       " 0  0     0          0      0⎥\n",
       "                             ⎥\n",
       " 0  0     0          0      0⎥\n",
       "                             ⎥\n",
       " 0  0     0          0      0⎥\n",
       "                             ⎥\n",
       " 0  0     0          0      0⎥\n",
       "                             ⎥\n",
       " 0  0     0          0      0⎥\n",
       "                             ⎥\n",
       " 0  0     0          0      0⎥\n",
       "                             ⎥\n",
       " 0  0     0          0      0⎥\n",
       "                             ⎥\n",
       " 0  0     0          0      0⎥\n",
       "                             ⎥\n",
       " 0  0     0          0      0⎥\n",
       "                             ⎥\n",
       " 0  0     0          0      0⎥\n",
       "                             ⎥\n",
       " 0  0     0          0      0⎥\n",
       "                             ⎥\n",
       " 0  0     0      -ⅈ⋅\\kappa  0⎥\n",
       "                             ⎥\n",
       " 0  0  ⅈ⋅\\kappa      0      0⎥\n",
       "                             ⎥\n",
       " 0  0     0          0      0⎦"
      ]
     },
     "execution_count": 19,
     "metadata": {},
     "output_type": "execute_result"
    }
   ],
   "source": [
    "H_int"
   ]
  },
  {
   "cell_type": "code",
   "execution_count": 20,
   "metadata": {
    "collapsed": false
   },
   "outputs": [],
   "source": [
    "H = H1 + H2 + H_int "
   ]
  },
  {
   "cell_type": "code",
   "execution_count": 21,
   "metadata": {
    "collapsed": false
   },
   "outputs": [
    {
     "data": {
      "image/png": "[encoded data removed]",
      "text/latex": [
       "$$\\left[\\begin{array}{cccccccccccccccc}0 & 0 & 0 & 0 & 0 & 0 & 0 & 0 & 0 & 0 & 0 & 0 & 0 & 0 & 0 & 0\\\\0 & - \\delta_{2} + \\frac{g_{2}^{2}}{\\Delta} & - i \\kappa & 0 & 0 & i \\operatorname{g_{2}}{\\left (t \\right )} e^{- i \\phi_{2}{\\left (t \\right )}} & 0 & 0 & 0 & 0 & 0 & 0 & 0 & 0 & 0 & 0\\\\0 & i \\kappa & - \\delta_{1} + \\frac{g_{1}^{2}}{\\Delta} & 0 & 0 & 0 & 0 & 0 & 0 & 0 & i \\operatorname{g_{1}}{\\left (t \\right )} e^{- i \\phi_{1}{\\left (t \\right )}} & 0 & 0 & 0 & 0 & 0\\\\0 & 0 & 0 & - \\delta_{1} - \\delta_{2} + \\frac{g_{1}^{2}}{\\Delta} + \\frac{g_{2}^{2}}{\\Delta} & 0 & 0 & 0 & i \\operatorname{g_{2}}{\\left (t \\right )} e^{- i \\phi_{2}{\\left (t \\right )}} & 0 & 0 & 0 & i \\operatorname{g_{1}}{\\left (t \\right )} e^{- i \\phi_{1}{\\left (t \\right )}} & 0 & 0 & 0 & 0\\\\0 & 0 & 0 & 0 & \\delta\\omega_{2}{\\left (t \\right )} & 0 & 0 & 0 & 0 & 0 & 0 & 0 & 0 & 0 & 0 & 0\\\\0 & - i \\operatorname{g_{2}}{\\left (t \\right )} e^{i \\phi_{2}{\\left (t \\right )}} & 0 & 0 & 0 & - \\delta_{2} + \\delta\\omega_{2}{\\left (t \\right )} & - i \\kappa & 0 & 0 & 0 & 0 & 0 & 0 & 0 & 0 & 0\\\\0 & 0 & 0 & 0 & 0 & i \\kappa & - \\delta_{1} + \\delta\\omega_{2}{\\left (t \\right )} + \\frac{g_{1}^{2}}{\\Delta} & 0 & 0 & 0 & 0 & 0 & 0 & 0 & i \\operatorname{g_{1}}{\\left (t \\right )} e^{- i \\phi_{1}{\\left (t \\right )}} & 0\\\\0 & 0 & 0 & - i \\operatorname{g_{2}}{\\left (t \\right )} e^{i \\phi_{2}{\\left (t \\right )}} & 0 & 0 & 0 & - \\delta_{1} - \\delta_{2} + \\delta\\omega_{2}{\\left (t \\right )} + \\frac{g_{1}^{2}}{\\Delta} & 0 & 0 & 0 & 0 & 0 & 0 & 0 & i \\operatorname{g_{1}}{\\left (t \\right )} e^{- i \\phi_{1}{\\left (t \\right )}}\\\\0 & 0 & 0 & 0 & 0 & 0 & 0 & 0 & \\delta\\omega_{1}{\\left (t \\right )} & 0 & 0 & 0 & 0 & 0 & 0 & 0\\\\0 & 0 & 0 & 0 & 0 & 0 & 0 & 0 & 0 & - \\delta_{2} + \\delta\\omega_{1}{\\left (t \\right )} + \\frac{g_{2}^{2}}{\\Delta} & - i \\kappa & 0 & 0 & i \\operatorname{g_{2}}{\\left (t \\right )} e^{- i \\phi_{2}{\\left (t \\right )}} & 0 & 0\\\\0 & 0 & - i \\operatorname{g_{1}}{\\left (t \\right )} e^{i \\phi_{1}{\\left (t \\right )}} & 0 & 0 & 0 & 0 & 0 & 0 & i \\kappa & - \\delta_{1} + \\delta\\omega_{1}{\\left (t \\right )} & 0 & 0 & 0 & 0 & 0\\\\0 & 0 & 0 & - i \\operatorname{g_{1}}{\\left (t \\right )} e^{i \\phi_{1}{\\left (t \\right )}} & 0 & 0 & 0 & 0 & 0 & 0 & 0 & - \\delta_{1} - \\delta_{2} + \\delta\\omega_{1}{\\left (t \\right )} + \\frac{g_{2}^{2}}{\\Delta} & 0 & 0 & 0 & i \\operatorname{g_{2}}{\\left (t \\right )} e^{- i \\phi_{2}{\\left (t \\right )}}\\\\0 & 0 & 0 & 0 & 0 & 0 & 0 & 0 & 0 & 0 & 0 & 0 & \\delta\\omega_{1}{\\left (t \\right )} + \\delta\\omega_{2}{\\left (t \\right )} & 0 & 0 & 0\\\\0 & 0 & 0 & 0 & 0 & 0 & 0 & 0 & 0 & - i \\operatorname{g_{2}}{\\left (t \\right )} e^{i \\phi_{2}{\\left (t \\right )}} & 0 & 0 & 0 & - \\delta_{2} + \\delta\\omega_{1}{\\left (t \\right )} + \\delta\\omega_{2}{\\left (t \\right )} & - i \\kappa & 0\\\\0 & 0 & 0 & 0 & 0 & 0 & - i \\operatorname{g_{1}}{\\left (t \\right )} e^{i \\phi_{1}{\\left (t \\right )}} & 0 & 0 & 0 & 0 & 0 & 0 & i \\kappa & - \\delta_{1} + \\delta\\omega_{1}{\\left (t \\right )} + \\delta\\omega_{2}{\\left (t \\right )} & 0\\\\0 & 0 & 0 & 0 & 0 & 0 & 0 & - i \\operatorname{g_{1}}{\\left (t \\right )} e^{i \\phi_{1}{\\left (t \\right )}} & 0 & 0 & 0 & - i \\operatorname{g_{2}}{\\left (t \\right )} e^{i \\phi_{2}{\\left (t \\right )}} & 0 & 0 & 0 & - \\delta_{1} - \\delta_{2} + \\delta\\omega_{1}{\\left (t \\right )} + \\delta\\omega_{2}{\\left (t \\right )}\\end{array}\\right]$$"
      ],
      "text/plain": [
       "⎡0           0                     0                             0            \n",
       "⎢                                                                             \n",
       "⎢                  2                                                          \n",
       "⎢                g₂                                                           \n",
       "⎢0   -\\delta₂ + ──────         -ⅈ⋅\\kappa                         0            \n",
       "⎢               \\Delta                                                        \n",
       "⎢                                                                             \n",
       "⎢                                        2                                    \n",
       "⎢                                      g₁                                     \n",
       "⎢0        ⅈ⋅\\kappa         -\\delta₁ + ──────                     0            \n",
       "⎢                                     \\Delta                                  \n",
       "⎢                                                                             \n",
       "⎢                                                                       2     \n",
       "⎢                                                                     g₁      \n",
       "⎢0           0                     0            -\\delta₁ - \\delta₂ + ────── + \n",
       "⎢                                                                    \\Delta   \n",
       "⎢                                                                             \n",
       "⎢0           0                     0                             0            \n",
       "⎢                                                                             \n",
       "⎢             ⅈ⋅\\phi₂(t)                                                      \n",
       "⎢0  -ⅈ⋅g₂(t)⋅ℯ                     0                             0            \n",
       "⎢                                                                             \n",
       "⎢                                                                             \n",
       "⎢                                                                             \n",
       "⎢0           0                     0                             0            \n",
       "⎢                                                                             \n",
       "⎢                                                                             \n",
       "⎢                                                                             \n",
       "⎢                                                                 ⅈ⋅\\phi₂(t)  \n",
       "⎢0           0                     0                    -ⅈ⋅g₂(t)⋅ℯ            \n",
       "⎢                                                                             \n",
       "⎢                                                                             \n",
       "⎢0           0                     0                             0            \n",
       "⎢                                                                             \n",
       "⎢                                                                             \n",
       "⎢                                                                             \n",
       "⎢0           0                     0                             0            \n",
       "⎢                                                                             \n",
       "⎢                                                                             \n",
       "⎢                                   ⅈ⋅\\phi₁(t)                                \n",
       "⎢0           0            -ⅈ⋅g₁(t)⋅ℯ                             0            \n",
       "⎢                                                                             \n",
       "⎢                                                                             \n",
       "⎢                                                                 ⅈ⋅\\phi₁(t)  \n",
       "⎢0           0                     0                    -ⅈ⋅g₁(t)⋅ℯ            \n",
       "⎢                                                                             \n",
       "⎢                                                                             \n",
       "⎢0           0                     0                             0            \n",
       "⎢                                                                             \n",
       "⎢                                                                             \n",
       "⎢0           0                     0                             0            \n",
       "⎢                                                                             \n",
       "⎢                                                                             \n",
       "⎢0           0                     0                             0            \n",
       "⎢                                                                             \n",
       "⎢                                                                             \n",
       "⎣0           0                     0                             0            \n",
       "\n",
       "               0                       0                                0     \n",
       "                                                                              \n",
       "                                                                              \n",
       "                                      -ⅈ⋅\\phi₂(t)                             \n",
       "               0             ⅈ⋅g₂(t)⋅ℯ                                  0     \n",
       "                                                                              \n",
       "                                                                              \n",
       "                                                                              \n",
       "                                                                              \n",
       "               0                       0                                0     \n",
       "                                                                              \n",
       "                                                                              \n",
       "   2                                                                          \n",
       " g₂                                                                           \n",
       "──────         0                       0                                0     \n",
       "\\Delta                                                                        \n",
       "                                                                              \n",
       "        \\delta\\omega₂(t)               0                                0     \n",
       "                                                                              \n",
       "                                                                              \n",
       "               0          -\\delta₂ + \\delta\\omega₂(t)               -ⅈ⋅\\kappa \n",
       "                                                                              \n",
       "                                                                              \n",
       "                                                                              \n",
       "               0                   ⅈ⋅\\kappa            -\\delta₁ + \\delta\\omega\n",
       "                                                                              \n",
       "                                                                              \n",
       "                                                                              \n",
       "                                                                              \n",
       "               0                       0                                0     \n",
       "                                                                              \n",
       "                                                                              \n",
       "               0                       0                                0     \n",
       "                                                                              \n",
       "                                                                              \n",
       "                                                                              \n",
       "               0                       0                                0     \n",
       "                                                                              \n",
       "                                                                              \n",
       "                                                                              \n",
       "               0                       0                                0     \n",
       "                                                                              \n",
       "                                                                              \n",
       "                                                                              \n",
       "               0                       0                                0     \n",
       "                                                                              \n",
       "                                                                              \n",
       "               0                       0                                0     \n",
       "                                                                              \n",
       "                                                                              \n",
       "               0                       0                                0     \n",
       "                                                                              \n",
       "                                                                         ⅈ⋅\\ph\n",
       "               0                       0                       -ⅈ⋅g₁(t)⋅ℯ     \n",
       "                                                                              \n",
       "                                                                              \n",
       "               0                       0                                0     \n",
       "\n",
       "                                     0                                0       \n",
       "                                                                              \n",
       "                                                                              \n",
       "                                                                              \n",
       "                                     0                                0       \n",
       "                                                                              \n",
       "                                                                              \n",
       "                                                                              \n",
       "                                                                              \n",
       "                                     0                                0       \n",
       "                                                                              \n",
       "                                                                              \n",
       "                                                                              \n",
       "                                     -ⅈ⋅\\phi₂(t)                              \n",
       "                            ⅈ⋅g₂(t)⋅ℯ                                 0       \n",
       "                                                                              \n",
       "                                                                              \n",
       "                                     0                                0       \n",
       "                                                                              \n",
       "                                                                              \n",
       "                                     0                                0       \n",
       "                                                                              \n",
       "          2                                                                   \n",
       "        g₁                                                                    \n",
       "₂(t) + ──────                        0                                0       \n",
       "       \\Delta                                                                 \n",
       "                                                                              \n",
       "                                                          2                   \n",
       "                                                        g₁                    \n",
       "               -\\delta₁ - \\delta₂ + \\delta\\omega₂(t) + ──────         0       \n",
       "                                                       \\Delta                 \n",
       "                                                                              \n",
       "                                     0                         \\delta\\omega₁(t\n",
       "                                                                              \n",
       "                                                                              \n",
       "                                                                              \n",
       "                                     0                                0       \n",
       "                                                                              \n",
       "                                                                              \n",
       "                                                                              \n",
       "                                     0                                0       \n",
       "                                                                              \n",
       "                                                                              \n",
       "                                                                              \n",
       "                                     0                                0       \n",
       "                                                                              \n",
       "                                                                              \n",
       "                                     0                                0       \n",
       "                                                                              \n",
       "                                                                              \n",
       "                                     0                                0       \n",
       "                                                                              \n",
       "i₁(t)                                                                         \n",
       "                                     0                                0       \n",
       "                                                                              \n",
       "                                      ⅈ⋅\\phi₁(t)                              \n",
       "                            -ⅈ⋅g₁(t)⋅ℯ                                0       \n",
       "\n",
       "                    0                                 0                       \n",
       "                                                                              \n",
       "                                                                              \n",
       "                                                                              \n",
       "                    0                                 0                       \n",
       "                                                                              \n",
       "                                                                              \n",
       "                                                                              \n",
       "                                                     -ⅈ⋅\\phi₁(t)              \n",
       "                    0                       ⅈ⋅g₁(t)⋅ℯ                         \n",
       "                                                                              \n",
       "                                                                              \n",
       "                                                                              \n",
       "                                                                              \n",
       "                    0                                 0                       \n",
       "                                                                              \n",
       "                                                                              \n",
       "                    0                                 0                       \n",
       "                                                                              \n",
       "                                                                              \n",
       "                    0                                 0                       \n",
       "                                                                              \n",
       "                                                                              \n",
       "                                                                              \n",
       "                    0                                 0                       \n",
       "                                                                              \n",
       "                                                                              \n",
       "                                                                              \n",
       "                                                                              \n",
       "                    0                                 0                       \n",
       "                                                                              \n",
       "                                                                              \n",
       ")                   0                                 0                       \n",
       "                                                                              \n",
       "                                    2                                         \n",
       "                                  g₂                                          \n",
       "   -\\delta₂ + \\delta\\omega₁(t) + ──────           -ⅈ⋅\\kappa                   \n",
       "                                 \\Delta                                       \n",
       "                                                                              \n",
       "                                                                              \n",
       "                 ⅈ⋅\\kappa                -\\delta₁ + \\delta\\omega₁(t)          \n",
       "                                                                              \n",
       "                                                                              \n",
       "                                                                              \n",
       "                    0                                 0               -\\delta₁\n",
       "                                                                              \n",
       "                                                                              \n",
       "                    0                                 0                       \n",
       "                                                                              \n",
       "                     ⅈ⋅\\phi₂(t)                                               \n",
       "           -ⅈ⋅g₂(t)⋅ℯ                                 0                       \n",
       "                                                                              \n",
       "                                                                              \n",
       "                    0                                 0                       \n",
       "                                                                              \n",
       "                                                                              \n",
       "                    0                                 0                       \n",
       "\n",
       "              0                                          0                    \n",
       "                                                                              \n",
       "                                                                              \n",
       "                                                                              \n",
       "              0                                          0                    \n",
       "                                                                              \n",
       "                                                                              \n",
       "                                                                              \n",
       "                                                                              \n",
       "              0                                          0                    \n",
       "                                                                              \n",
       "                                                                              \n",
       "                                                                              \n",
       "              -ⅈ⋅\\phi₁(t)                                                     \n",
       "     ⅈ⋅g₁(t)⋅ℯ                                           0                    \n",
       "                                                                              \n",
       "                                                                              \n",
       "              0                                          0                    \n",
       "                                                                              \n",
       "                                                                              \n",
       "              0                                          0                    \n",
       "                                                                              \n",
       "                                                                              \n",
       "                                                                              \n",
       "              0                                          0                    \n",
       "                                                                              \n",
       "                                                                              \n",
       "                                                                              \n",
       "                                                                              \n",
       "              0                                          0                    \n",
       "                                                                              \n",
       "                                                                              \n",
       "              0                                          0                    \n",
       "                                                                              \n",
       "                                                                              \n",
       "                                                                              \n",
       "              0                                          0                    \n",
       "                                                                              \n",
       "                                                                              \n",
       "                                                                              \n",
       "              0                                          0                    \n",
       "                                                                              \n",
       "                                   2                                          \n",
       "                                 g₂                                           \n",
       " - \\delta₂ + \\delta\\omega₁(t) + ──────                   0                    \n",
       "                                \\Delta                                        \n",
       "                                                                              \n",
       "              0                         \\delta\\omega₁(t) + \\delta\\omega₂(t)   \n",
       "                                                                              \n",
       "                                                                              \n",
       "              0                                          0                   -\n",
       "                                                                              \n",
       "                                                                              \n",
       "              0                                          0                    \n",
       "                                                                              \n",
       "               ⅈ⋅\\phi₂(t)                                                     \n",
       "     -ⅈ⋅g₂(t)⋅ℯ                                          0                    \n",
       "\n",
       "                     0                                               0        \n",
       "                                                                              \n",
       "                                                                              \n",
       "                                                                              \n",
       "                     0                                               0        \n",
       "                                                                              \n",
       "                                                                              \n",
       "                                                                              \n",
       "                                                                              \n",
       "                     0                                               0        \n",
       "                                                                              \n",
       "                                                                              \n",
       "                                                                              \n",
       "                                                                              \n",
       "                     0                                               0        \n",
       "                                                                              \n",
       "                                                                              \n",
       "                     0                                               0        \n",
       "                                                                              \n",
       "                                                                              \n",
       "                     0                                               0        \n",
       "                                                                              \n",
       "                                                                              \n",
       "                                                                     -ⅈ⋅\\phi₁(\n",
       "                     0                                      ⅈ⋅g₁(t)⋅ℯ         \n",
       "                                                                              \n",
       "                                                                              \n",
       "                                                                              \n",
       "                                                                              \n",
       "                     0                                               0        \n",
       "                                                                              \n",
       "                                                                              \n",
       "                     0                                               0        \n",
       "                                                                              \n",
       "                                                                              \n",
       "                     -ⅈ⋅\\phi₂(t)                                              \n",
       "            ⅈ⋅g₂(t)⋅ℯ                                                0        \n",
       "                                                                              \n",
       "                                                                              \n",
       "                                                                              \n",
       "                     0                                               0        \n",
       "                                                                              \n",
       "                                                                              \n",
       "                                                                              \n",
       "                     0                                               0        \n",
       "                                                                              \n",
       "                                                                              \n",
       "                     0                                               0        \n",
       "                                                                              \n",
       "                                                                              \n",
       "\\delta₂ + \\delta\\omega₁(t) + \\delta\\omega₂(t)                    -ⅈ⋅\\kappa    \n",
       "                                                                              \n",
       "                                                                              \n",
       "                  ⅈ⋅\\kappa                     -\\delta₁ + \\delta\\omega₁(t) + \\\n",
       "                                                                              \n",
       "                                                                              \n",
       "                     0                                               0        \n",
       "\n",
       "                                            0                            ⎤\n",
       "                                                                         ⎥\n",
       "                                                                         ⎥\n",
       "                                                                         ⎥\n",
       "                                            0                            ⎥\n",
       "                                                                         ⎥\n",
       "                                                                         ⎥\n",
       "                                                                         ⎥\n",
       "                                                                         ⎥\n",
       "                                            0                            ⎥\n",
       "                                                                         ⎥\n",
       "                                                                         ⎥\n",
       "                                                                         ⎥\n",
       "                                                                         ⎥\n",
       "                                            0                            ⎥\n",
       "                                                                         ⎥\n",
       "                                                                         ⎥\n",
       "                                            0                            ⎥\n",
       "                                                                         ⎥\n",
       "                                                                         ⎥\n",
       "                                            0                            ⎥\n",
       "                                                                         ⎥\n",
       "                                                                         ⎥\n",
       "t)                                                                       ⎥\n",
       "                                            0                            ⎥\n",
       "                                                                         ⎥\n",
       "                                                                         ⎥\n",
       "                                                                         ⎥\n",
       "                                            -ⅈ⋅\\phi₁(t)                  ⎥\n",
       "                                   ⅈ⋅g₁(t)⋅ℯ                             ⎥\n",
       "                                                                         ⎥\n",
       "                                                                         ⎥\n",
       "                                            0                            ⎥\n",
       "                                                                         ⎥\n",
       "                                                                         ⎥\n",
       "                                                                         ⎥\n",
       "                                            0                            ⎥\n",
       "                                                                         ⎥\n",
       "                                                                         ⎥\n",
       "                                                                         ⎥\n",
       "                                            0                            ⎥\n",
       "                                                                         ⎥\n",
       "                                                                         ⎥\n",
       "                                            -ⅈ⋅\\phi₂(t)                  ⎥\n",
       "                                   ⅈ⋅g₂(t)⋅ℯ                             ⎥\n",
       "                                                                         ⎥\n",
       "                                                                         ⎥\n",
       "                                            0                            ⎥\n",
       "                                                                         ⎥\n",
       "                                                                         ⎥\n",
       "                                            0                            ⎥\n",
       "                                                                         ⎥\n",
       "                                                                         ⎥\n",
       "delta\\omega₂(t)                             0                            ⎥\n",
       "                                                                         ⎥\n",
       "                                                                         ⎥\n",
       "                 -\\delta₁ - \\delta₂ + \\delta\\omega₁(t) + \\delta\\omega₂(t)⎦"
      ]
     },
     "execution_count": 21,
     "metadata": {},
     "output_type": "execute_result"
    }
   ],
   "source": [
    "H"
   ]
  },
  {
   "cell_type": "markdown",
   "metadata": {},
   "source": [
    "* Some of the constants are the same for both systems"
   ]
  },
  {
   "cell_type": "code",
   "execution_count": 22,
   "metadata": {
    "collapsed": true
   },
   "outputs": [],
   "source": [
    "δ, g = sympy.symbols((r'\\delta', 'g'), positive=True)"
   ]
  },
  {
   "cell_type": "code",
   "execution_count": 23,
   "metadata": {
    "collapsed": false
   },
   "outputs": [],
   "source": [
    "H = H.subs({δ1:δ, δ2:δ, g1:g, g2:g})"
   ]
  },
  {
   "cell_type": "markdown",
   "metadata": {},
   "source": [
    "The above Hamiltonian has been cross-checked with the output from QNET (application of SLH)."
   ]
  },
  {
   "cell_type": "markdown",
   "metadata": {},
   "source": [
    "*  Choose the detuning"
   ]
  },
  {
   "cell_type": "code",
   "execution_count": 24,
   "metadata": {
    "collapsed": false
   },
   "outputs": [],
   "source": [
    "H = H.subs({δ: g**2/Δ})"
   ]
  },
  {
   "cell_type": "markdown",
   "metadata": {},
   "source": [
    "* we may or may not claim a-priori that we can choose the the pulse phases such that they cancel the stark shifts"
   ]
  },
  {
   "cell_type": "code",
   "execution_count": 25,
   "metadata": {
    "collapsed": true
   },
   "outputs": [],
   "source": [
    "drop_phase_and_stark_shift = False # set to false to leave this for later"
   ]
  },
  {
   "cell_type": "code",
   "execution_count": 26,
   "metadata": {
    "collapsed": true
   },
   "outputs": [],
   "source": [
    "if drop_phase_and_stark_shift:\n",
    "    zero_phase_zero_stark = {\n",
    "            ϕ1(t): 0, ϕ2(t): 0,\n",
    "            ω1(t): 0, ω2(t): 0}\n",
    "    H = H.subs(zero_phase_zero_stark)"
   ]
  },
  {
   "cell_type": "markdown",
   "metadata": {},
   "source": [
    "This yields the following Hamitonian:"
   ]
  },
  {
   "cell_type": "code",
   "execution_count": 27,
   "metadata": {
    "collapsed": false
   },
   "outputs": [
    {
     "data": {
      "image/png": "[encoded data removed]",
      "text/latex": [
       "$$\\left[\\begin{array}{cccccccccccccccc}0 & 0 & 0 & 0 & 0 & 0 & 0 & 0 & 0 & 0 & 0 & 0 & 0 & 0 & 0 & 0\\\\0 & 0 & - i \\kappa & 0 & 0 & i \\operatorname{g_{2}}{\\left (t \\right )} e^{- i \\phi_{2}{\\left (t \\right )}} & 0 & 0 & 0 & 0 & 0 & 0 & 0 & 0 & 0 & 0\\\\0 & i \\kappa & 0 & 0 & 0 & 0 & 0 & 0 & 0 & 0 & i \\operatorname{g_{1}}{\\left (t \\right )} e^{- i \\phi_{1}{\\left (t \\right )}} & 0 & 0 & 0 & 0 & 0\\\\0 & 0 & 0 & 0 & 0 & 0 & 0 & i \\operatorname{g_{2}}{\\left (t \\right )} e^{- i \\phi_{2}{\\left (t \\right )}} & 0 & 0 & 0 & i \\operatorname{g_{1}}{\\left (t \\right )} e^{- i \\phi_{1}{\\left (t \\right )}} & 0 & 0 & 0 & 0\\\\0 & 0 & 0 & 0 & \\delta\\omega_{2}{\\left (t \\right )} & 0 & 0 & 0 & 0 & 0 & 0 & 0 & 0 & 0 & 0 & 0\\\\0 & - i \\operatorname{g_{2}}{\\left (t \\right )} e^{i \\phi_{2}{\\left (t \\right )}} & 0 & 0 & 0 & \\delta\\omega_{2}{\\left (t \\right )} - \\frac{g^{2}}{\\Delta} & - i \\kappa & 0 & 0 & 0 & 0 & 0 & 0 & 0 & 0 & 0\\\\0 & 0 & 0 & 0 & 0 & i \\kappa & \\delta\\omega_{2}{\\left (t \\right )} & 0 & 0 & 0 & 0 & 0 & 0 & 0 & i \\operatorname{g_{1}}{\\left (t \\right )} e^{- i \\phi_{1}{\\left (t \\right )}} & 0\\\\0 & 0 & 0 & - i \\operatorname{g_{2}}{\\left (t \\right )} e^{i \\phi_{2}{\\left (t \\right )}} & 0 & 0 & 0 & \\delta\\omega_{2}{\\left (t \\right )} - \\frac{g^{2}}{\\Delta} & 0 & 0 & 0 & 0 & 0 & 0 & 0 & i \\operatorname{g_{1}}{\\left (t \\right )} e^{- i \\phi_{1}{\\left (t \\right )}}\\\\0 & 0 & 0 & 0 & 0 & 0 & 0 & 0 & \\delta\\omega_{1}{\\left (t \\right )} & 0 & 0 & 0 & 0 & 0 & 0 & 0\\\\0 & 0 & 0 & 0 & 0 & 0 & 0 & 0 & 0 & \\delta\\omega_{1}{\\left (t \\right )} & - i \\kappa & 0 & 0 & i \\operatorname{g_{2}}{\\left (t \\right )} e^{- i \\phi_{2}{\\left (t \\right )}} & 0 & 0\\\\0 & 0 & - i \\operatorname{g_{1}}{\\left (t \\right )} e^{i \\phi_{1}{\\left (t \\right )}} & 0 & 0 & 0 & 0 & 0 & 0 & i \\kappa & \\delta\\omega_{1}{\\left (t \\right )} - \\frac{g^{2}}{\\Delta} & 0 & 0 & 0 & 0 & 0\\\\0 & 0 & 0 & - i \\operatorname{g_{1}}{\\left (t \\right )} e^{i \\phi_{1}{\\left (t \\right )}} & 0 & 0 & 0 & 0 & 0 & 0 & 0 & \\delta\\omega_{1}{\\left (t \\right )} - \\frac{g^{2}}{\\Delta} & 0 & 0 & 0 & i \\operatorname{g_{2}}{\\left (t \\right )} e^{- i \\phi_{2}{\\left (t \\right )}}\\\\0 & 0 & 0 & 0 & 0 & 0 & 0 & 0 & 0 & 0 & 0 & 0 & \\delta\\omega_{1}{\\left (t \\right )} + \\delta\\omega_{2}{\\left (t \\right )} & 0 & 0 & 0\\\\0 & 0 & 0 & 0 & 0 & 0 & 0 & 0 & 0 & - i \\operatorname{g_{2}}{\\left (t \\right )} e^{i \\phi_{2}{\\left (t \\right )}} & 0 & 0 & 0 & \\delta\\omega_{1}{\\left (t \\right )} + \\delta\\omega_{2}{\\left (t \\right )} - \\frac{g^{2}}{\\Delta} & - i \\kappa & 0\\\\0 & 0 & 0 & 0 & 0 & 0 & - i \\operatorname{g_{1}}{\\left (t \\right )} e^{i \\phi_{1}{\\left (t \\right )}} & 0 & 0 & 0 & 0 & 0 & 0 & i \\kappa & \\delta\\omega_{1}{\\left (t \\right )} + \\delta\\omega_{2}{\\left (t \\right )} - \\frac{g^{2}}{\\Delta} & 0\\\\0 & 0 & 0 & 0 & 0 & 0 & 0 & - i \\operatorname{g_{1}}{\\left (t \\right )} e^{i \\phi_{1}{\\left (t \\right )}} & 0 & 0 & 0 & - i \\operatorname{g_{2}}{\\left (t \\right )} e^{i \\phi_{2}{\\left (t \\right )}} & 0 & 0 & 0 & \\delta\\omega_{1}{\\left (t \\right )} + \\delta\\omega_{2}{\\left (t \\right )} - \\frac{2 g^{2}}{\\Delta}\\end{array}\\right]$$"
      ],
      "text/plain": [
       "⎡0           0                     0                     0                   0\n",
       "⎢                                                                             \n",
       "⎢                                                                             \n",
       "⎢0           0                 -ⅈ⋅\\kappa                 0                   0\n",
       "⎢                                                                             \n",
       "⎢                                                                             \n",
       "⎢0        ⅈ⋅\\kappa                 0                     0                   0\n",
       "⎢                                                                             \n",
       "⎢                                                                             \n",
       "⎢0           0                     0                     0                   0\n",
       "⎢                                                                             \n",
       "⎢0           0                     0                     0            \\delta\\o\n",
       "⎢                                                                             \n",
       "⎢                                                                             \n",
       "⎢             ⅈ⋅\\phi₂(t)                                                      \n",
       "⎢0  -ⅈ⋅g₂(t)⋅ℯ                     0                     0                   0\n",
       "⎢                                                                             \n",
       "⎢                                                                             \n",
       "⎢                                                                             \n",
       "⎢0           0                     0                     0                   0\n",
       "⎢                                                                             \n",
       "⎢                                                                             \n",
       "⎢                                                         ⅈ⋅\\phi₂(t)          \n",
       "⎢0           0                     0            -ⅈ⋅g₂(t)⋅ℯ                   0\n",
       "⎢                                                                             \n",
       "⎢                                                                             \n",
       "⎢0           0                     0                     0                   0\n",
       "⎢                                                                             \n",
       "⎢                                                                             \n",
       "⎢0           0                     0                     0                   0\n",
       "⎢                                                                             \n",
       "⎢                                                                             \n",
       "⎢                                   ⅈ⋅\\phi₁(t)                                \n",
       "⎢0           0            -ⅈ⋅g₁(t)⋅ℯ                     0                   0\n",
       "⎢                                                                             \n",
       "⎢                                                                             \n",
       "⎢                                                                             \n",
       "⎢                                                         ⅈ⋅\\phi₁(t)          \n",
       "⎢0           0                     0            -ⅈ⋅g₁(t)⋅ℯ                   0\n",
       "⎢                                                                             \n",
       "⎢                                                                             \n",
       "⎢0           0                     0                     0                   0\n",
       "⎢                                                                             \n",
       "⎢                                                                             \n",
       "⎢                                                                             \n",
       "⎢0           0                     0                     0                   0\n",
       "⎢                                                                             \n",
       "⎢                                                                             \n",
       "⎢                                                                             \n",
       "⎢                                                                             \n",
       "⎢0           0                     0                     0                   0\n",
       "⎢                                                                             \n",
       "⎢                                                                             \n",
       "⎢                                                                             \n",
       "⎢                                                                             \n",
       "⎢0           0                     0                     0                   0\n",
       "⎣                                                                             \n",
       "\n",
       "                      0                       0                        0      \n",
       "                                                                              \n",
       "                     -ⅈ⋅\\phi₂(t)                                              \n",
       "            ⅈ⋅g₂(t)⋅ℯ                         0                        0      \n",
       "                                                                              \n",
       "                                                                              \n",
       "                      0                       0                        0      \n",
       "                                                                              \n",
       "                                                                      -ⅈ⋅\\phi₂\n",
       "                      0                       0              ⅈ⋅g₂(t)⋅ℯ        \n",
       "                                                                              \n",
       "mega₂(t)              0                       0                        0      \n",
       "                                                                              \n",
       "                                2                                             \n",
       "                               g                                              \n",
       "          \\delta\\omega₂(t) - ──────       -ⅈ⋅\\kappa                    0      \n",
       "                             \\Delta                                           \n",
       "                                                                              \n",
       "                                                                              \n",
       "                  ⅈ⋅\\kappa             \\delta\\omega₂(t)                0      \n",
       "                                                                              \n",
       "                                                                              \n",
       "                                                                              \n",
       "                      0                       0            \\delta\\omega₂(t) - \n",
       "                                                                              \n",
       "                                                                              \n",
       "                      0                       0                        0      \n",
       "                                                                              \n",
       "                                                                              \n",
       "                      0                       0                        0      \n",
       "                                                                              \n",
       "                                                                              \n",
       "                                                                              \n",
       "                      0                       0                        0      \n",
       "                                                                              \n",
       "                                                                              \n",
       "                                                                              \n",
       "                                                                              \n",
       "                      0                       0                        0      \n",
       "                                                                              \n",
       "                                                                              \n",
       "                      0                       0                        0      \n",
       "                                                                              \n",
       "                                                                              \n",
       "                                                                              \n",
       "                      0                       0                        0      \n",
       "                                                                              \n",
       "                                                                              \n",
       "                                                                              \n",
       "                                               ⅈ⋅\\phi₁(t)                     \n",
       "                      0              -ⅈ⋅g₁(t)⋅ℯ                        0      \n",
       "                                                                              \n",
       "                                                                              \n",
       "                                                                              \n",
       "                                                                       ⅈ⋅\\phi₁\n",
       "                      0                       0              -ⅈ⋅g₁(t)⋅ℯ       \n",
       "                                                                              \n",
       "\n",
       "               0                   0                        0                 \n",
       "                                                                              \n",
       "                                                                              \n",
       "               0                   0                        0                 \n",
       "                                                                              \n",
       "                                                           -ⅈ⋅\\phi₁(t)        \n",
       "               0                   0              ⅈ⋅g₁(t)⋅ℯ                   \n",
       "                                                                              \n",
       "(t)                                                                           \n",
       "               0                   0                        0                ⅈ\n",
       "                                                                              \n",
       "               0                   0                        0                 \n",
       "                                                                              \n",
       "                                                                              \n",
       "                                                                              \n",
       "               0                   0                        0                 \n",
       "                                                                              \n",
       "                                                                              \n",
       "                                                                              \n",
       "               0                   0                        0                 \n",
       "                                                                              \n",
       "   2                                                                          \n",
       "  g                                                                           \n",
       "──────         0                   0                        0                 \n",
       "\\Delta                                                                        \n",
       "                                                                              \n",
       "        \\delta\\omega₁(t)           0                        0                 \n",
       "                                                                              \n",
       "                                                                              \n",
       "               0            \\delta\\omega₁(t)            -ⅈ⋅\\kappa             \n",
       "                                                                              \n",
       "                                                                      2       \n",
       "                                                                     g        \n",
       "               0                ⅈ⋅\\kappa        \\delta\\omega₁(t) - ──────     \n",
       "                                                                   \\Delta     \n",
       "                                                                              \n",
       "                                                                              \n",
       "                                                                              \n",
       "               0                   0                        0              \\de\n",
       "                                                                              \n",
       "                                                                              \n",
       "               0                   0                        0                 \n",
       "                                                                              \n",
       "                                                                              \n",
       "                                    ⅈ⋅\\phi₂(t)                                \n",
       "               0          -ⅈ⋅g₂(t)⋅ℯ                        0                 \n",
       "                                                                              \n",
       "                                                                              \n",
       "                                                                              \n",
       "                                                                              \n",
       "               0                   0                        0                 \n",
       "                                                                              \n",
       "                                                                              \n",
       "                                                                              \n",
       "(t)                                                                           \n",
       "               0                   0                        0                -\n",
       "                                                                              \n",
       "\n",
       "         0                               0                                    \n",
       "                                                                              \n",
       "                                                                              \n",
       "         0                               0                                    \n",
       "                                                                              \n",
       "                                                                              \n",
       "         0                               0                                    \n",
       "                                                                              \n",
       "        -ⅈ⋅\\phi₁(t)                                                           \n",
       "⋅g₁(t)⋅ℯ                                 0                                    \n",
       "                                                                              \n",
       "         0                               0                                    \n",
       "                                                                              \n",
       "                                                                              \n",
       "                                                                              \n",
       "         0                               0                                    \n",
       "                                                                              \n",
       "                                                                              \n",
       "                                                                              \n",
       "         0                               0                                    \n",
       "                                                                              \n",
       "                                                                              \n",
       "                                                                              \n",
       "         0                               0                                    \n",
       "                                                                              \n",
       "                                                                              \n",
       "         0                               0                                    \n",
       "                                                                              \n",
       "                                                                              \n",
       "         0                               0                               ⅈ⋅g₂(\n",
       "                                                                              \n",
       "                                                                              \n",
       "                                                                              \n",
       "         0                               0                                    \n",
       "                                                                              \n",
       "                                                                              \n",
       "                   2                                                          \n",
       "                  g                                                           \n",
       "lta\\omega₁(t) - ──────                   0                                    \n",
       "                \\Delta                                                        \n",
       "                                                                              \n",
       "         0              \\delta\\omega₁(t) + \\delta\\omega₂(t)                   \n",
       "                                                                              \n",
       "                                                                              \n",
       "                                                                              \n",
       "         0                               0                   \\delta\\omega₁(t) \n",
       "                                                                              \n",
       "                                                                              \n",
       "                                                                              \n",
       "                                                                              \n",
       "         0                               0                                    \n",
       "                                                                              \n",
       "                                                                              \n",
       "                                                                              \n",
       "         ⅈ⋅\\phi₂(t)                                                           \n",
       "ⅈ⋅g₂(t)⋅ℯ                                0                                    \n",
       "                                                                              \n",
       "\n",
       "    0                                             0                           \n",
       "                                                                              \n",
       "                                                                              \n",
       "    0                                             0                           \n",
       "                                                                              \n",
       "                                                                              \n",
       "    0                                             0                           \n",
       "                                                                              \n",
       "                                                                              \n",
       "    0                                             0                           \n",
       "                                                                              \n",
       "    0                                             0                           \n",
       "                                                                              \n",
       "                                                                              \n",
       "                                                                              \n",
       "    0                                             0                           \n",
       "                                                                              \n",
       "                                                                              \n",
       "                                                  -ⅈ⋅\\phi₁(t)                 \n",
       "    0                                    ⅈ⋅g₁(t)⋅ℯ                            \n",
       "                                                                              \n",
       "                                                                              \n",
       "                                                                              \n",
       "    0                                             0                           \n",
       "                                                                              \n",
       "                                                                              \n",
       "    0                                             0                           \n",
       "                                                                              \n",
       "    -ⅈ⋅\\phi₂(t)                                                               \n",
       "t)⋅ℯ                                              0                           \n",
       "                                                                              \n",
       "                                                                              \n",
       "                                                                              \n",
       "    0                                             0                           \n",
       "                                                                              \n",
       "                                                                              \n",
       "                                                                              \n",
       "                                                                              \n",
       "    0                                             0                           \n",
       "                                                                              \n",
       "                                                                              \n",
       "    0                                             0                           \n",
       "                                                                              \n",
       "                        2                                                     \n",
       "                       g                                                      \n",
       "+ \\delta\\omega₂(t) - ──────                   -ⅈ⋅\\kappa                       \n",
       "                     \\Delta                                                   \n",
       "                                                                              \n",
       "                                                                      2       \n",
       "                                                                     g        \n",
       " ⅈ⋅\\kappa                    \\delta\\omega₁(t) + \\delta\\omega₂(t) - ──────     \n",
       "                                                                   \\Delta     \n",
       "                                                                              \n",
       "                                                                              \n",
       "                                                                              \n",
       "    0                                             0                        \\de\n",
       "                                                                              \n",
       "\n",
       "                  0                      ⎤\n",
       "                                         ⎥\n",
       "                                         ⎥\n",
       "                  0                      ⎥\n",
       "                                         ⎥\n",
       "                                         ⎥\n",
       "                  0                      ⎥\n",
       "                                         ⎥\n",
       "                                         ⎥\n",
       "                  0                      ⎥\n",
       "                                         ⎥\n",
       "                  0                      ⎥\n",
       "                                         ⎥\n",
       "                                         ⎥\n",
       "                                         ⎥\n",
       "                  0                      ⎥\n",
       "                                         ⎥\n",
       "                                         ⎥\n",
       "                                         ⎥\n",
       "                  0                      ⎥\n",
       "                                         ⎥\n",
       "                                         ⎥\n",
       "                  -ⅈ⋅\\phi₁(t)            ⎥\n",
       "         ⅈ⋅g₁(t)⋅ℯ                       ⎥\n",
       "                                         ⎥\n",
       "                                         ⎥\n",
       "                  0                      ⎥\n",
       "                                         ⎥\n",
       "                                         ⎥\n",
       "                  0                      ⎥\n",
       "                                         ⎥\n",
       "                                         ⎥\n",
       "                                         ⎥\n",
       "                  0                      ⎥\n",
       "                                         ⎥\n",
       "                                         ⎥\n",
       "                                         ⎥\n",
       "                  -ⅈ⋅\\phi₂(t)            ⎥\n",
       "         ⅈ⋅g₂(t)⋅ℯ                       ⎥\n",
       "                                         ⎥\n",
       "                                         ⎥\n",
       "                  0                      ⎥\n",
       "                                         ⎥\n",
       "                                         ⎥\n",
       "                                         ⎥\n",
       "                  0                      ⎥\n",
       "                                         ⎥\n",
       "                                         ⎥\n",
       "                                         ⎥\n",
       "                                         ⎥\n",
       "                  0                      ⎥\n",
       "                                         ⎥\n",
       "                                         ⎥\n",
       "                                       2 ⎥\n",
       "                                    2⋅g  ⎥\n",
       "lta\\omega₁(t) + \\delta\\omega₂(t) - ──────⎥\n",
       "                                   \\Delta⎦"
      ]
     },
     "execution_count": 27,
     "metadata": {},
     "output_type": "execute_result"
    }
   ],
   "source": [
    "H"
   ]
  },
  {
   "cell_type": "markdown",
   "metadata": {},
   "source": [
    "## State Parametrization (Ansatz)"
   ]
  },
  {
   "cell_type": "code",
   "execution_count": 28,
   "metadata": {
    "collapsed": false
   },
   "outputs": [],
   "source": [
    "ket0 = sympy.Matrix([1,0])\n",
    "ket1 = sympy.Matrix([0,1])"
   ]
  },
  {
   "cell_type": "code",
   "execution_count": 29,
   "metadata": {
    "collapsed": true
   },
   "outputs": [],
   "source": [
    "def ket(*i_tupel):\n",
    "    basis = {'e': ket1, 'g': ket0, '1':ket1, '0':ket0, 1:ket1, 0:ket0}\n",
    "    result = basis[i_tupel[0]]\n",
    "    for i in i_tupel[1:]:\n",
    "        result = TensorProduct(result, basis[i])\n",
    "    return result"
   ]
  },
  {
   "cell_type": "code",
   "execution_count": 30,
   "metadata": {
    "collapsed": true
   },
   "outputs": [],
   "source": [
    "def bra(*i_tupel):\n",
    "    return dagger(ket(*i_tupel))"
   ]
  },
  {
   "cell_type": "code",
   "execution_count": 31,
   "metadata": {
    "collapsed": false
   },
   "outputs": [],
   "source": [
    "cg, ce = sympy.symbols(\n",
    "(r'c_g', r'c_e'), positive=True)\n",
    "α1, α2, β1, β2, βa, βs = sympy.symbols(\n",
    "(r'\\alpha_1', r'\\alpha_2', r'\\beta_1',\n",
    "r'\\beta_2', r'\\beta_a', r'\\beta_s'), cls=sympy.Function, positive=True)"
   ]
  },
  {
   "cell_type": "code",
   "execution_count": 32,
   "metadata": {
    "collapsed": false
   },
   "outputs": [],
   "source": [
    "Psi \\\n",
    "=   cg * ket('g', 'g', 0, 0) \\\n",
    "  + ce * (\n",
    "          α1(t) * exp(-I*ϕ1(t)) * ket('e', 'g', 0, 0)\n",
    "        + α2(t) * exp(-I*ϕ2(t)) * ket('g', 'e', 0, 0)\n",
    "        + β1(t) * ket('g', 'g', 1, 0)\n",
    "        + β2(t) * ket('g', 'g', 0, 1)\n",
    "    )"
   ]
  },
  {
   "cell_type": "code",
   "execution_count": 33,
   "metadata": {
    "collapsed": false
   },
   "outputs": [],
   "source": [
    "if drop_phase_and_stark_shift:\n",
    "    Psi = Psi.subs(zero_phase_zero_stark)"
   ]
  },
  {
   "cell_type": "code",
   "execution_count": 34,
   "metadata": {
    "collapsed": false
   },
   "outputs": [],
   "source": [
    "def print_psi(psi, skip_zero=True):\n",
    "    from IPython.display import display, Math\n",
    "    qubit = {'0': 'g', '1': 'e'}\n",
    "    cav = {'0': '0', '1': '1'}\n",
    "    for i, a in enumerate(psi):\n",
    "        if a == 0:\n",
    "            if skip_zero:\n",
    "                continue\n",
    "        i, j, k, l = \"{0:04b}\".format(i)\n",
    "        label = qubit[i] + qubit[j] + cav[k] + cav[l]\n",
    "        line = r'\\langle %s \\vert \\Psi \\rangle = %s ' \\\n",
    "               % (label, sympy.latex(a))\n",
    "        display(Math(line))"
   ]
  },
  {
   "cell_type": "markdown",
   "metadata": {},
   "source": [
    "* Let's assume the initial state is the fully excited state:"
   ]
  },
  {
   "cell_type": "code",
   "execution_count": 35,
   "metadata": {
    "collapsed": true
   },
   "outputs": [],
   "source": [
    "#Psi = Psi.subs({cg: 0, ce: 1})"
   ]
  },
  {
   "cell_type": "markdown",
   "metadata": {},
   "source": [
    "* Boundary conditions:"
   ]
  },
  {
   "cell_type": "code",
   "execution_count": 36,
   "metadata": {
    "collapsed": true
   },
   "outputs": [],
   "source": [
    "boundary_start = {  # -infty\n",
    "    cg: 0, ce: 1, α2(t): 1, ϕ2(t): 0, α1(t): 0, ϕ1(t) :0,\n",
    "    β1(t): 0, β2(t): 0\n",
    "}"
   ]
  },
  {
   "cell_type": "code",
   "execution_count": 37,
   "metadata": {
    "collapsed": true
   },
   "outputs": [],
   "source": [
    "boundary_end = {  # -infty\n",
    "    cg: 0, ce: 1, α2(t): 0, ϕ2(t): 0, α1(t): 1, ϕ1(t) :0,\n",
    "    β1(t): 0, β2(t): 0\n",
    "}"
   ]
  },
  {
   "cell_type": "code",
   "execution_count": 38,
   "metadata": {
    "collapsed": false
   },
   "outputs": [
    {
     "data": {
      "text/latex": [
       "$$\\langle ge00 \\vert \\Psi \\rangle = 1 $$"
      ],
      "text/plain": [
       "<IPython.core.display.Math object>"
      ]
     },
     "metadata": {},
     "output_type": "display_data"
    }
   ],
   "source": [
    "print_psi(Psi.subs(boundary_start))"
   ]
  },
  {
   "cell_type": "code",
   "execution_count": 39,
   "metadata": {
    "collapsed": false
   },
   "outputs": [
    {
     "data": {
      "text/latex": [
       "$$\\langle eg00 \\vert \\Psi \\rangle = 1 $$"
      ],
      "text/plain": [
       "<IPython.core.display.Math object>"
      ]
     },
     "metadata": {},
     "output_type": "display_data"
    }
   ],
   "source": [
    "print_psi(Psi.subs(boundary_end))"
   ]
  },
  {
   "cell_type": "markdown",
   "metadata": {},
   "source": [
    "* We rewrite the $\\beta$ into a symmetric and anti-symmetric term."
   ]
  },
  {
   "cell_type": "code",
   "execution_count": 40,
   "metadata": {
    "collapsed": true
   },
   "outputs": [],
   "source": [
    "beta_symmetry = {\n",
    "    β1(t): ((βs(t) - βa(t)) / sqrt(2)),\n",
    "    β2(t): ((βs(t) + βa(t)) / sqrt(2))\n",
    "}"
   ]
  },
  {
   "cell_type": "code",
   "execution_count": 41,
   "metadata": {
    "collapsed": false
   },
   "outputs": [],
   "source": [
    "Psi = Psi.subs(beta_symmetry)"
   ]
  },
  {
   "cell_type": "markdown",
   "metadata": {},
   "source": [
    "* The dark state condition is that probability of a quantum jump is zero:"
   ]
  },
  {
   "cell_type": "code",
   "execution_count": 42,
   "metadata": {
    "collapsed": false
   },
   "outputs": [],
   "source": [
    "eq_dark = sympy.Eq(((L * Psi)[0]).expand(), 0)"
   ]
  },
  {
   "cell_type": "code",
   "execution_count": 43,
   "metadata": {
    "collapsed": false
   },
   "outputs": [
    {
     "data": {
      "image/png": "[encoded data removed]",
      "text/latex": [
       "$$2 \\sqrt{\\kappa} c_{e} \\beta_{s}{\\left (t \\right )} = 0$$"
      ],
      "text/plain": [
       "    ________                  \n",
       "2⋅╲╱ \\kappa ⋅cₑ⋅\\beta_s(t) = 0"
      ]
     },
     "execution_count": 43,
     "metadata": {},
     "output_type": "execute_result"
    }
   ],
   "source": [
    "eq_dark"
   ]
  },
  {
   "cell_type": "code",
   "execution_count": 44,
   "metadata": {
    "collapsed": false
   },
   "outputs": [],
   "source": [
    "dark_state_cond = {βs(t): sympy.solve(eq_dark, βs(t))[0]}"
   ]
  },
  {
   "cell_type": "code",
   "execution_count": 45,
   "metadata": {
    "collapsed": true
   },
   "outputs": [],
   "source": [
    "Psi = Psi.subs(dark_state_cond)"
   ]
  },
  {
   "cell_type": "code",
   "execution_count": 46,
   "metadata": {
    "collapsed": false
   },
   "outputs": [
    {
     "data": {
      "text/latex": [
       "$$\\langle gg00 \\vert \\Psi \\rangle = c_{g} $$"
      ],
      "text/plain": [
       "<IPython.core.display.Math object>"
      ]
     },
     "metadata": {},
     "output_type": "display_data"
    },
    {
     "data": {
      "text/latex": [
       "$$\\langle gg01 \\vert \\Psi \\rangle = \\frac{\\sqrt{2} c_{e}}{2} \\beta_{a}{\\left (t \\right )} $$"
      ],
      "text/plain": [
       "<IPython.core.display.Math object>"
      ]
     },
     "metadata": {},
     "output_type": "display_data"
    },
    {
     "data": {
      "text/latex": [
       "$$\\langle gg10 \\vert \\Psi \\rangle = - \\frac{\\sqrt{2} c_{e}}{2} \\beta_{a}{\\left (t \\right )} $$"
      ],
      "text/plain": [
       "<IPython.core.display.Math object>"
      ]
     },
     "metadata": {},
     "output_type": "display_data"
    },
    {
     "data": {
      "text/latex": [
       "$$\\langle gg11 \\vert \\Psi \\rangle = 0 $$"
      ],
      "text/plain": [
       "<IPython.core.display.Math object>"
      ]
     },
     "metadata": {},
     "output_type": "display_data"
    },
    {
     "data": {
      "text/latex": [
       "$$\\langle ge00 \\vert \\Psi \\rangle = c_{e} \\alpha_{2}{\\left (t \\right )} e^{- i \\phi_{2}{\\left (t \\right )}} $$"
      ],
      "text/plain": [
       "<IPython.core.display.Math object>"
      ]
     },
     "metadata": {},
     "output_type": "display_data"
    },
    {
     "data": {
      "text/latex": [
       "$$\\langle ge01 \\vert \\Psi \\rangle = 0 $$"
      ],
      "text/plain": [
       "<IPython.core.display.Math object>"
      ]
     },
     "metadata": {},
     "output_type": "display_data"
    },
    {
     "data": {
      "text/latex": [
       "$$\\langle ge10 \\vert \\Psi \\rangle = 0 $$"
      ],
      "text/plain": [
       "<IPython.core.display.Math object>"
      ]
     },
     "metadata": {},
     "output_type": "display_data"
    },
    {
     "data": {
      "text/latex": [
       "$$\\langle ge11 \\vert \\Psi \\rangle = 0 $$"
      ],
      "text/plain": [
       "<IPython.core.display.Math object>"
      ]
     },
     "metadata": {},
     "output_type": "display_data"
    },
    {
     "data": {
      "text/latex": [
       "$$\\langle eg00 \\vert \\Psi \\rangle = c_{e} \\alpha_{1}{\\left (t \\right )} e^{- i \\phi_{1}{\\left (t \\right )}} $$"
      ],
      "text/plain": [
       "<IPython.core.display.Math object>"
      ]
     },
     "metadata": {},
     "output_type": "display_data"
    },
    {
     "data": {
      "text/latex": [
       "$$\\langle eg01 \\vert \\Psi \\rangle = 0 $$"
      ],
      "text/plain": [
       "<IPython.core.display.Math object>"
      ]
     },
     "metadata": {},
     "output_type": "display_data"
    },
    {
     "data": {
      "text/latex": [
       "$$\\langle eg10 \\vert \\Psi \\rangle = 0 $$"
      ],
      "text/plain": [
       "<IPython.core.display.Math object>"
      ]
     },
     "metadata": {},
     "output_type": "display_data"
    },
    {
     "data": {
      "text/latex": [
       "$$\\langle eg11 \\vert \\Psi \\rangle = 0 $$"
      ],
      "text/plain": [
       "<IPython.core.display.Math object>"
      ]
     },
     "metadata": {},
     "output_type": "display_data"
    },
    {
     "data": {
      "text/latex": [
       "$$\\langle ee00 \\vert \\Psi \\rangle = 0 $$"
      ],
      "text/plain": [
       "<IPython.core.display.Math object>"
      ]
     },
     "metadata": {},
     "output_type": "display_data"
    },
    {
     "data": {
      "text/latex": [
       "$$\\langle ee01 \\vert \\Psi \\rangle = 0 $$"
      ],
      "text/plain": [
       "<IPython.core.display.Math object>"
      ]
     },
     "metadata": {},
     "output_type": "display_data"
    },
    {
     "data": {
      "text/latex": [
       "$$\\langle ee10 \\vert \\Psi \\rangle = 0 $$"
      ],
      "text/plain": [
       "<IPython.core.display.Math object>"
      ]
     },
     "metadata": {},
     "output_type": "display_data"
    },
    {
     "data": {
      "text/latex": [
       "$$\\langle ee11 \\vert \\Psi \\rangle = 0 $$"
      ],
      "text/plain": [
       "<IPython.core.display.Math object>"
      ]
     },
     "metadata": {},
     "output_type": "display_data"
    }
   ],
   "source": [
    "print_psi(Psi, skip_zero=False)"
   ]
  },
  {
   "cell_type": "markdown",
   "metadata": {},
   "source": [
    "* Normalization condition"
   ]
  },
  {
   "cell_type": "code",
   "execution_count": 47,
   "metadata": {
    "collapsed": false
   },
   "outputs": [
    {
     "data": {
      "image/png": "[encoded data removed]",
      "text/latex": [
       "$$c_{e}^{2} \\alpha_{1}{\\left (t \\right )} e^{- i \\phi_{1}{\\left (t \\right )}} e^{i \\overline{\\phi_{1}{\\left (t \\right )}}} \\overline{\\alpha_{1}{\\left (t \\right )}} + c_{e}^{2} \\alpha_{2}{\\left (t \\right )} e^{- i \\phi_{2}{\\left (t \\right )}} e^{i \\overline{\\phi_{2}{\\left (t \\right )}}} \\overline{\\alpha_{2}{\\left (t \\right )}} + c_{e}^{2} \\beta_{a}{\\left (t \\right )} \\overline{\\beta_{a}{\\left (t \\right )}} + c_{g}^{2}$$"
      ],
      "text/plain": [
       "                               ________                                       \n",
       "  2             -ⅈ⋅\\phi₁(t)  ⅈ⋅\\phi₁(t) __________     2             -ⅈ⋅\\phi₂(\n",
       "cₑ ⋅\\alpha₁(t)⋅ℯ           ⋅ℯ          ⋅\\alpha₁(t) + cₑ ⋅\\alpha₂(t)⋅ℯ         \n",
       "\n",
       "      ________                                            \n",
       "t)  ⅈ⋅\\phi₂(t) __________     2           _________      2\n",
       "  ⋅ℯ          ⋅\\alpha₂(t) + cₑ ⋅\\betaₐ(t)⋅\\betaₐ(t) + c_g "
      ]
     },
     "execution_count": 47,
     "metadata": {},
     "output_type": "execute_result"
    }
   ],
   "source": [
    "(dagger(Psi) * Psi)[0]"
   ]
  },
  {
   "cell_type": "markdown",
   "metadata": {},
   "source": [
    "## Dynamic Equations"
   ]
  },
  {
   "cell_type": "code",
   "execution_count": 48,
   "metadata": {
    "collapsed": false
   },
   "outputs": [],
   "source": [
    "def dynamic_equations(H, psi, t):\n",
    "    lhs = I*psi.diff(t)\n",
    "    rhs = H * psi\n",
    "    eqs = []\n",
    "    for i in range(len(lhs)):\n",
    "        if lhs[i] == rhs[i] == 0:\n",
    "            continue\n",
    "        else:\n",
    "            eqs.append(sympy.Eq(lhs[i], rhs[i]))\n",
    "    return eqs"
   ]
  },
  {
   "cell_type": "code",
   "execution_count": 49,
   "metadata": {
    "collapsed": false
   },
   "outputs": [],
   "source": [
    "eqs = dynamic_equations(H, Psi, t)"
   ]
  },
  {
   "cell_type": "code",
   "execution_count": 50,
   "metadata": {
    "collapsed": false
   },
   "outputs": [
    {
     "data": {
      "image/png": "[encoded data removed]",
      "text/latex": [
       "$$\\frac{i c_{e}}{2} \\sqrt{2} \\frac{d}{d t} \\beta_{a}{\\left (t \\right )} = \\frac{i \\kappa}{2} \\sqrt{2} c_{e} \\beta_{a}{\\left (t \\right )}$$"
      ],
      "text/plain": [
       "  ___      d                                          \n",
       "╲╱ 2 ⋅ⅈ⋅cₑ⋅──(\\betaₐ(t))     ___                      \n",
       "           dt              ╲╱ 2 ⋅ⅈ⋅\\kappa⋅cₑ⋅\\betaₐ(t)\n",
       "──────────────────────── = ───────────────────────────\n",
       "           2                            2             "
      ]
     },
     "metadata": {},
     "output_type": "display_data"
    },
    {
     "data": {
      "image/png": "[encoded data removed]",
      "text/latex": [
       "$$- \\frac{i c_{e}}{2} \\sqrt{2} \\frac{d}{d t} \\beta_{a}{\\left (t \\right )} = \\frac{i \\kappa}{2} \\sqrt{2} c_{e} \\beta_{a}{\\left (t \\right )}$$"
      ],
      "text/plain": [
       "   ___      d                                           \n",
       "-╲╱ 2 ⋅ⅈ⋅cₑ⋅──(\\betaₐ(t))      ___                      \n",
       "            dt               ╲╱ 2 ⋅ⅈ⋅\\kappa⋅cₑ⋅\\betaₐ(t)\n",
       "────────────────────────── = ───────────────────────────\n",
       "            2                             2             "
      ]
     },
     "metadata": {},
     "output_type": "display_data"
    },
    {
     "data": {
      "image/png": "[encoded data removed]",
      "text/latex": [
       "$$i \\left(- i c_{e} \\alpha_{2}{\\left (t \\right )} e^{- i \\phi_{2}{\\left (t \\right )}} \\frac{d}{d t} \\phi_{2}{\\left (t \\right )} + c_{e} e^{- i \\phi_{2}{\\left (t \\right )}} \\frac{d}{d t} \\alpha_{2}{\\left (t \\right )}\\right) = c_{e} \\alpha_{2}{\\left (t \\right )} \\delta\\omega_{2}{\\left (t \\right )} e^{- i \\phi_{2}{\\left (t \\right )}}$$"
      ],
      "text/plain": [
       "  ⎛                   -ⅈ⋅\\phi₂(t) d                  -ⅈ⋅\\phi₂(t) d            \n",
       "ⅈ⋅⎜- ⅈ⋅cₑ⋅\\alpha₂(t)⋅ℯ           ⋅──(\\phi₂(t)) + cₑ⋅ℯ           ⋅──(\\alpha₂(t)\n",
       "  ⎝                               dt                             dt           \n",
       "\n",
       " ⎞                                   -ⅈ⋅\\phi₂(t)\n",
       ")⎟ = cₑ⋅\\alpha₂(t)⋅\\delta\\omega₂(t)⋅ℯ           \n",
       " ⎠                                              "
      ]
     },
     "metadata": {},
     "output_type": "display_data"
    },
    {
     "data": {
      "image/png": "[encoded data removed]",
      "text/latex": [
       "$$0 = - \\frac{i c_{e}}{2} \\sqrt{2} \\beta_{a}{\\left (t \\right )} \\operatorname{g_{2}}{\\left (t \\right )} e^{i \\phi_{2}{\\left (t \\right )}}$$"
      ],
      "text/plain": [
       "       ___                       ⅈ⋅\\phi₂(t) \n",
       "    -╲╱ 2 ⋅ⅈ⋅cₑ⋅\\betaₐ(t)⋅g₂(t)⋅ℯ           \n",
       "0 = ────────────────────────────────────────\n",
       "                       2                    "
      ]
     },
     "metadata": {},
     "output_type": "display_data"
    },
    {
     "data": {
      "image/png": "[encoded data removed]",
      "text/latex": [
       "$$i \\left(- i c_{e} \\alpha_{1}{\\left (t \\right )} e^{- i \\phi_{1}{\\left (t \\right )}} \\frac{d}{d t} \\phi_{1}{\\left (t \\right )} + c_{e} e^{- i \\phi_{1}{\\left (t \\right )}} \\frac{d}{d t} \\alpha_{1}{\\left (t \\right )}\\right) = c_{e} \\alpha_{1}{\\left (t \\right )} \\delta\\omega_{1}{\\left (t \\right )} e^{- i \\phi_{1}{\\left (t \\right )}}$$"
      ],
      "text/plain": [
       "  ⎛                   -ⅈ⋅\\phi₁(t) d                  -ⅈ⋅\\phi₁(t) d            \n",
       "ⅈ⋅⎜- ⅈ⋅cₑ⋅\\alpha₁(t)⋅ℯ           ⋅──(\\phi₁(t)) + cₑ⋅ℯ           ⋅──(\\alpha₁(t)\n",
       "  ⎝                               dt                             dt           \n",
       "\n",
       " ⎞                                   -ⅈ⋅\\phi₁(t)\n",
       ")⎟ = cₑ⋅\\alpha₁(t)⋅\\delta\\omega₁(t)⋅ℯ           \n",
       " ⎠                                              "
      ]
     },
     "metadata": {},
     "output_type": "display_data"
    },
    {
     "data": {
      "image/png": "[encoded data removed]",
      "text/latex": [
       "$$0 = \\frac{i c_{e}}{2} \\sqrt{2} \\beta_{a}{\\left (t \\right )} \\operatorname{g_{1}}{\\left (t \\right )} e^{i \\phi_{1}{\\left (t \\right )}}$$"
      ],
      "text/plain": [
       "      ___                       ⅈ⋅\\phi₁(t)\n",
       "    ╲╱ 2 ⋅ⅈ⋅cₑ⋅\\betaₐ(t)⋅g₁(t)⋅ℯ          \n",
       "0 = ──────────────────────────────────────\n",
       "                      2                   "
      ]
     },
     "metadata": {},
     "output_type": "display_data"
    }
   ],
   "source": [
    "display_eqs(eqs)"
   ]
  },
  {
   "cell_type": "markdown",
   "metadata": {},
   "source": [
    "* we assume that $c_e > 0$, and cancel constants"
   ]
  },
  {
   "cell_type": "code",
   "execution_count": 51,
   "metadata": {
    "collapsed": false
   },
   "outputs": [],
   "source": [
    "c1 = I*sqrt(2)*ce / 2\n",
    "c2 = -I*ce"
   ]
  },
  {
   "cell_type": "code",
   "execution_count": 52,
   "metadata": {
    "collapsed": false
   },
   "outputs": [],
   "source": [
    "if drop_phase_and_stark_shift:\n",
    "    eqs[0] = divide_eq(eqs[0], c1, simplify=sympy.simplify)\n",
    "    eqs[1] = divide_eq(eqs[1], c1, simplify=sympy.simplify)\n",
    "    eqs[2] = divide_eq(eqs[2], c2, simplify=sympy.simplify)\n",
    "    eqs[3] = divide_eq(eqs[3], c1, simplify=sympy.simplify)\n",
    "    eqs[4] = divide_eq(eqs[4], c2, simplify=sympy.simplify)\n",
    "    eqs[5] = divide_eq(eqs[5], c1, simplify=sympy.simplify)\n",
    "else:\n",
    "    eqs[0] = divide_eq(eqs[0], c1, simplify=sympy.simplify)\n",
    "    eqs[1] = divide_eq(eqs[1], c1, simplify=sympy.simplify)\n",
    "    eqs[2] = divide_eq(eqs[2], (c2*exp(-I*ϕ2(t))), simplify=sympy.simplify)\n",
    "    eqs[3] = divide_eq(eqs[3], (c1*exp(+I*ϕ2(t))), simplify=sympy.simplify)\n",
    "    eqs[4] = divide_eq(eqs[4], (c2*exp(-I*ϕ1(t))), simplify=sympy.simplify)\n",
    "    eqs[5] = divide_eq(eqs[5], (c1*exp(+I*ϕ1(t))), simplify=sympy.simplify)"
   ]
  },
  {
   "cell_type": "code",
   "execution_count": 53,
   "metadata": {
    "collapsed": false
   },
   "outputs": [
    {
     "data": {
      "image/png": "[encoded data removed]",
      "text/latex": [
       "$$\\frac{d}{d t} \\beta_{a}{\\left (t \\right )} = \\kappa \\beta_{a}{\\left (t \\right )}$$"
      ],
      "text/plain": [
       "d                               \n",
       "──(\\betaₐ(t)) = \\kappa⋅\\betaₐ(t)\n",
       "dt                              "
      ]
     },
     "metadata": {},
     "output_type": "display_data"
    },
    {
     "data": {
      "image/png": "[encoded data removed]",
      "text/latex": [
       "$$- \\frac{d}{d t} \\beta_{a}{\\left (t \\right )} = \\kappa \\beta_{a}{\\left (t \\right )}$$"
      ],
      "text/plain": [
       " d                               \n",
       "-──(\\betaₐ(t)) = \\kappa⋅\\betaₐ(t)\n",
       " dt                              "
      ]
     },
     "metadata": {},
     "output_type": "display_data"
    },
    {
     "data": {
      "image/png": "[encoded data removed]",
      "text/latex": [
       "$$i \\alpha_{2}{\\left (t \\right )} \\frac{d}{d t} \\phi_{2}{\\left (t \\right )} - \\frac{d}{d t} \\alpha_{2}{\\left (t \\right )} = i \\alpha_{2}{\\left (t \\right )} \\delta\\omega_{2}{\\left (t \\right )}$$"
      ],
      "text/plain": [
       "             d              d                                             \n",
       "ⅈ⋅\\alpha₂(t)⋅──(\\phi₂(t)) - ──(\\alpha₂(t)) = ⅈ⋅\\alpha₂(t)⋅\\delta\\omega₂(t)\n",
       "             dt             dt                                            "
      ]
     },
     "metadata": {},
     "output_type": "display_data"
    },
    {
     "data": {
      "image/png": "[encoded data removed]",
      "text/latex": [
       "$$0 = - \\beta_{a}{\\left (t \\right )} \\operatorname{g_{2}}{\\left (t \\right )}$$"
      ],
      "text/plain": [
       "0 = -\\betaₐ(t)⋅g₂(t)"
      ]
     },
     "metadata": {},
     "output_type": "display_data"
    },
    {
     "data": {
      "image/png": "[encoded data removed]",
      "text/latex": [
       "$$i \\alpha_{1}{\\left (t \\right )} \\frac{d}{d t} \\phi_{1}{\\left (t \\right )} - \\frac{d}{d t} \\alpha_{1}{\\left (t \\right )} = i \\alpha_{1}{\\left (t \\right )} \\delta\\omega_{1}{\\left (t \\right )}$$"
      ],
      "text/plain": [
       "             d              d                                             \n",
       "ⅈ⋅\\alpha₁(t)⋅──(\\phi₁(t)) - ──(\\alpha₁(t)) = ⅈ⋅\\alpha₁(t)⋅\\delta\\omega₁(t)\n",
       "             dt             dt                                            "
      ]
     },
     "metadata": {},
     "output_type": "display_data"
    },
    {
     "data": {
      "image/png": "[encoded data removed]",
      "text/latex": [
       "$$0 = \\beta_{a}{\\left (t \\right )} \\operatorname{g_{1}}{\\left (t \\right )}$$"
      ],
      "text/plain": [
       "0 = \\betaₐ(t)⋅g₁(t)"
      ]
     },
     "metadata": {},
     "output_type": "display_data"
    }
   ],
   "source": [
    "display_eqs(eqs)"
   ]
  },
  {
   "cell_type": "markdown",
   "metadata": {},
   "source": [
    "* We choose a chirp to compensate for the Stark shift"
   ]
  },
  {
   "cell_type": "code",
   "execution_count": 54,
   "metadata": {
    "collapsed": true
   },
   "outputs": [],
   "source": [
    "if not drop_phase_and_stark_shift:\n",
    "    chirp = {ϕ1(t).diff(t): ω1(t), ϕ2(t).diff(t): ω2(t)}\n",
    "    for i, eq in enumerate(eqs):\n",
    "        eqs[i] = eq.subs(chirp)"
   ]
  },
  {
   "cell_type": "code",
   "execution_count": 55,
   "metadata": {
    "collapsed": false
   },
   "outputs": [
    {
     "data": {
      "image/png": "[encoded data removed]",
      "text/latex": [
       "$$\\frac{d}{d t} \\beta_{a}{\\left (t \\right )} = \\kappa \\beta_{a}{\\left (t \\right )}$$"
      ],
      "text/plain": [
       "d                               \n",
       "──(\\betaₐ(t)) = \\kappa⋅\\betaₐ(t)\n",
       "dt                              "
      ]
     },
     "metadata": {},
     "output_type": "display_data"
    },
    {
     "data": {
      "image/png": "[encoded data removed]",
      "text/latex": [
       "$$- \\frac{d}{d t} \\beta_{a}{\\left (t \\right )} = \\kappa \\beta_{a}{\\left (t \\right )}$$"
      ],
      "text/plain": [
       " d                               \n",
       "-──(\\betaₐ(t)) = \\kappa⋅\\betaₐ(t)\n",
       " dt                              "
      ]
     },
     "metadata": {},
     "output_type": "display_data"
    },
    {
     "data": {
      "image/png": "[encoded data removed]",
      "text/latex": [
       "$$i \\alpha_{2}{\\left (t \\right )} \\delta\\omega_{2}{\\left (t \\right )} - \\frac{d}{d t} \\alpha_{2}{\\left (t \\right )} = i \\alpha_{2}{\\left (t \\right )} \\delta\\omega_{2}{\\left (t \\right )}$$"
      ],
      "text/plain": [
       "                                d                                             \n",
       "ⅈ⋅\\alpha₂(t)⋅\\delta\\omega₂(t) - ──(\\alpha₂(t)) = ⅈ⋅\\alpha₂(t)⋅\\delta\\omega₂(t)\n",
       "                                dt                                            "
      ]
     },
     "metadata": {},
     "output_type": "display_data"
    },
    {
     "data": {
      "image/png": "[encoded data removed]",
      "text/latex": [
       "$$0 = - \\beta_{a}{\\left (t \\right )} \\operatorname{g_{2}}{\\left (t \\right )}$$"
      ],
      "text/plain": [
       "0 = -\\betaₐ(t)⋅g₂(t)"
      ]
     },
     "metadata": {},
     "output_type": "display_data"
    },
    {
     "data": {
      "image/png": "[encoded data removed]",
      "text/latex": [
       "$$i \\alpha_{1}{\\left (t \\right )} \\delta\\omega_{1}{\\left (t \\right )} - \\frac{d}{d t} \\alpha_{1}{\\left (t \\right )} = i \\alpha_{1}{\\left (t \\right )} \\delta\\omega_{1}{\\left (t \\right )}$$"
      ],
      "text/plain": [
       "                                d                                             \n",
       "ⅈ⋅\\alpha₁(t)⋅\\delta\\omega₁(t) - ──(\\alpha₁(t)) = ⅈ⋅\\alpha₁(t)⋅\\delta\\omega₁(t)\n",
       "                                dt                                            "
      ]
     },
     "metadata": {},
     "output_type": "display_data"
    },
    {
     "data": {
      "image/png": "[encoded data removed]",
      "text/latex": [
       "$$0 = \\beta_{a}{\\left (t \\right )} \\operatorname{g_{1}}{\\left (t \\right )}$$"
      ],
      "text/plain": [
       "0 = \\betaₐ(t)⋅g₁(t)"
      ]
     },
     "metadata": {},
     "output_type": "display_data"
    }
   ],
   "source": [
    "display_eqs(eqs)"
   ]
  },
  {
   "cell_type": "code",
   "execution_count": 56,
   "metadata": {
    "collapsed": false
   },
   "outputs": [],
   "source": [
    "eqs2 = []\n",
    "eqs2.append(divide_eq(add_eqs(eqs[0], eqs[1]), 2))\n",
    "eqs2.append(add_eqs(eqs[3], eqs[5]))\n",
    "eqs2.append(eqs[2])\n",
    "eqs2.append(eqs[4])"
   ]
  },
  {
   "cell_type": "code",
   "execution_count": 57,
   "metadata": {
    "collapsed": false
   },
   "outputs": [
    {
     "data": {
      "image/png": "[encoded data removed]",
      "text/latex": [
       "$$0 = \\kappa \\beta_{a}{\\left (t \\right )}$$"
      ],
      "text/plain": [
       "0 = \\kappa⋅\\betaₐ(t)"
      ]
     },
     "metadata": {},
     "output_type": "display_data"
    },
    {
     "data": {
      "image/png": "[encoded data removed]",
      "text/latex": [
       "$$0 = \\beta_{a}{\\left (t \\right )} \\operatorname{g_{1}}{\\left (t \\right )} - \\beta_{a}{\\left (t \\right )} \\operatorname{g_{2}}{\\left (t \\right )}$$"
      ],
      "text/plain": [
       "0 = \\betaₐ(t)⋅g₁(t) - \\betaₐ(t)⋅g₂(t)"
      ]
     },
     "metadata": {},
     "output_type": "display_data"
    },
    {
     "data": {
      "image/png": "[encoded data removed]",
      "text/latex": [
       "$$i \\alpha_{2}{\\left (t \\right )} \\delta\\omega_{2}{\\left (t \\right )} - \\frac{d}{d t} \\alpha_{2}{\\left (t \\right )} = i \\alpha_{2}{\\left (t \\right )} \\delta\\omega_{2}{\\left (t \\right )}$$"
      ],
      "text/plain": [
       "                                d                                             \n",
       "ⅈ⋅\\alpha₂(t)⋅\\delta\\omega₂(t) - ──(\\alpha₂(t)) = ⅈ⋅\\alpha₂(t)⋅\\delta\\omega₂(t)\n",
       "                                dt                                            "
      ]
     },
     "metadata": {},
     "output_type": "display_data"
    },
    {
     "data": {
      "image/png": "[encoded data removed]",
      "text/latex": [
       "$$i \\alpha_{1}{\\left (t \\right )} \\delta\\omega_{1}{\\left (t \\right )} - \\frac{d}{d t} \\alpha_{1}{\\left (t \\right )} = i \\alpha_{1}{\\left (t \\right )} \\delta\\omega_{1}{\\left (t \\right )}$$"
      ],
      "text/plain": [
       "                                d                                             \n",
       "ⅈ⋅\\alpha₁(t)⋅\\delta\\omega₁(t) - ──(\\alpha₁(t)) = ⅈ⋅\\alpha₁(t)⋅\\delta\\omega₁(t)\n",
       "                                dt                                            "
      ]
     },
     "metadata": {},
     "output_type": "display_data"
    }
   ],
   "source": [
    "display_eqs(eqs2)"
   ]
  },
  {
   "cell_type": "code",
   "execution_count": null,
   "metadata": {
    "collapsed": true
   },
   "outputs": [],
   "source": []
  },
  {
   "cell_type": "code",
   "execution_count": null,
   "metadata": {
    "collapsed": true
   },
   "outputs": [],
   "source": []
  }
 ],
 "metadata": {
  "kernelspec": {
   "display_name": "goerz-QNET",
   "language": "python",
   "name": "goerz_qnet"
  },
  "language_info": {
   "codemirror_mode": {
    "name": "ipython",
    "version": 3
   },
   "file_extension": ".py",
   "mimetype": "text/x-python",
   "name": "python",
   "nbconvert_exporter": "python",
   "pygments_lexer": "ipython3",
   "version": "3.4.5"
  },
  "toc": {
   "toc_cell": false,
   "toc_number_sections": true,
   "toc_threshold": 6,
   "toc_window_display": true
  }
 },
 "nbformat": 4,
 "nbformat_minor": 0
}
